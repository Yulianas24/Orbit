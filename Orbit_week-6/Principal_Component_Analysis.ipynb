{
  "cells": [
    {
      "cell_type": "code",
      "execution_count": 1,
      "metadata": {
        "id": "BBtS_NZNyXOj"
      },
      "outputs": [],
      "source": [
        "import pandas as pd\n",
        "import numpy as np\n",
        "import random as rd\n",
        "from sklearn.decomposition import PCA\n",
        "from sklearn import preprocessing #scale\n",
        "import matplotlib.pyplot as plt "
      ]
    },
    {
      "cell_type": "markdown",
      "metadata": {
        "id": "QgNsEkQeyxaq"
      },
      "source": [
        "# Data Generation Code"
      ]
    },
    {
      "cell_type": "code",
      "execution_count": 20,
      "metadata": {
        "colab": {
          "base_uri": "https://localhost:8080/"
        },
        "id": "SsP2Cj1Yybei",
        "outputId": "a24d047d-5e2d-4569-8701-0c912511ac6c"
      },
      "outputs": [
        {
          "data": {
            "text/plain": [
              "['gene1', 'gene2', 'gene3']"
            ]
          },
          "execution_count": 20,
          "metadata": {},
          "output_type": "execute_result"
        }
      ],
      "source": [
        "genes = ['gene' + str(i) for i in range(1,101)]\n",
        "genes[:3]"
      ]
    },
    {
      "cell_type": "markdown",
      "metadata": {
        "id": "Mh8IudWzzaW1"
      },
      "source": [
        "wt= wild type samples\n",
        "\n",
        "\n",
        "ko= knock out samples"
      ]
    },
    {
      "cell_type": "code",
      "execution_count": 3,
      "metadata": {
        "colab": {
          "base_uri": "https://localhost:8080/"
        },
        "id": "cg_31jkOzHUo",
        "outputId": "ee54b24e-a0c6-4795-8156-013d44592ef1"
      },
      "outputs": [
        {
          "data": {
            "text/plain": [
              "['wt1', 'wt2', 'wt3']"
            ]
          },
          "execution_count": 3,
          "metadata": {},
          "output_type": "execute_result"
        }
      ],
      "source": [
        "wt = ['wt' + str(i) for i in range(1,6)]\n",
        "ko = ['ko' + str(i) for i in range(1,6)]\n",
        "wt[:3]"
      ]
    },
    {
      "cell_type": "code",
      "execution_count": 4,
      "metadata": {
        "colab": {
          "base_uri": "https://localhost:8080/",
          "height": 206
        },
        "id": "JdSPdl7izsUP",
        "outputId": "c98476d6-db46-4400-d46f-506bfc0665a4"
      },
      "outputs": [
        {
          "data": {
            "text/html": [
              "<div>\n",
              "<style scoped>\n",
              "    .dataframe tbody tr th:only-of-type {\n",
              "        vertical-align: middle;\n",
              "    }\n",
              "\n",
              "    .dataframe tbody tr th {\n",
              "        vertical-align: top;\n",
              "    }\n",
              "\n",
              "    .dataframe thead th {\n",
              "        text-align: right;\n",
              "    }\n",
              "</style>\n",
              "<table border=\"1\" class=\"dataframe\">\n",
              "  <thead>\n",
              "    <tr style=\"text-align: right;\">\n",
              "      <th></th>\n",
              "      <th>wt1</th>\n",
              "      <th>wt2</th>\n",
              "      <th>wt3</th>\n",
              "      <th>wt4</th>\n",
              "      <th>wt5</th>\n",
              "      <th>ko1</th>\n",
              "      <th>ko2</th>\n",
              "      <th>ko3</th>\n",
              "      <th>ko4</th>\n",
              "      <th>ko5</th>\n",
              "    </tr>\n",
              "  </thead>\n",
              "  <tbody>\n",
              "    <tr>\n",
              "      <th>gene1</th>\n",
              "      <td>NaN</td>\n",
              "      <td>NaN</td>\n",
              "      <td>NaN</td>\n",
              "      <td>NaN</td>\n",
              "      <td>NaN</td>\n",
              "      <td>NaN</td>\n",
              "      <td>NaN</td>\n",
              "      <td>NaN</td>\n",
              "      <td>NaN</td>\n",
              "      <td>NaN</td>\n",
              "    </tr>\n",
              "    <tr>\n",
              "      <th>gene2</th>\n",
              "      <td>NaN</td>\n",
              "      <td>NaN</td>\n",
              "      <td>NaN</td>\n",
              "      <td>NaN</td>\n",
              "      <td>NaN</td>\n",
              "      <td>NaN</td>\n",
              "      <td>NaN</td>\n",
              "      <td>NaN</td>\n",
              "      <td>NaN</td>\n",
              "      <td>NaN</td>\n",
              "    </tr>\n",
              "    <tr>\n",
              "      <th>gene3</th>\n",
              "      <td>NaN</td>\n",
              "      <td>NaN</td>\n",
              "      <td>NaN</td>\n",
              "      <td>NaN</td>\n",
              "      <td>NaN</td>\n",
              "      <td>NaN</td>\n",
              "      <td>NaN</td>\n",
              "      <td>NaN</td>\n",
              "      <td>NaN</td>\n",
              "      <td>NaN</td>\n",
              "    </tr>\n",
              "    <tr>\n",
              "      <th>gene4</th>\n",
              "      <td>NaN</td>\n",
              "      <td>NaN</td>\n",
              "      <td>NaN</td>\n",
              "      <td>NaN</td>\n",
              "      <td>NaN</td>\n",
              "      <td>NaN</td>\n",
              "      <td>NaN</td>\n",
              "      <td>NaN</td>\n",
              "      <td>NaN</td>\n",
              "      <td>NaN</td>\n",
              "    </tr>\n",
              "    <tr>\n",
              "      <th>gene5</th>\n",
              "      <td>NaN</td>\n",
              "      <td>NaN</td>\n",
              "      <td>NaN</td>\n",
              "      <td>NaN</td>\n",
              "      <td>NaN</td>\n",
              "      <td>NaN</td>\n",
              "      <td>NaN</td>\n",
              "      <td>NaN</td>\n",
              "      <td>NaN</td>\n",
              "      <td>NaN</td>\n",
              "    </tr>\n",
              "  </tbody>\n",
              "</table>\n",
              "</div>"
            ],
            "text/plain": [
              "       wt1  wt2  wt3  wt4  wt5  ko1  ko2  ko3  ko4  ko5\n",
              "gene1  NaN  NaN  NaN  NaN  NaN  NaN  NaN  NaN  NaN  NaN\n",
              "gene2  NaN  NaN  NaN  NaN  NaN  NaN  NaN  NaN  NaN  NaN\n",
              "gene3  NaN  NaN  NaN  NaN  NaN  NaN  NaN  NaN  NaN  NaN\n",
              "gene4  NaN  NaN  NaN  NaN  NaN  NaN  NaN  NaN  NaN  NaN\n",
              "gene5  NaN  NaN  NaN  NaN  NaN  NaN  NaN  NaN  NaN  NaN"
            ]
          },
          "execution_count": 4,
          "metadata": {},
          "output_type": "execute_result"
        }
      ],
      "source": [
        "data = pd.DataFrame(columns=[*wt, *ko], index=genes)\n",
        "data.head()"
      ]
    },
    {
      "cell_type": "code",
      "execution_count": 5,
      "metadata": {
        "id": "fU_BKS5g0FdI"
      },
      "outputs": [],
      "source": [
        "for gene in data.index: \n",
        "    data.loc[gene,'wt1':'wt5'] = np.random.poisson(lam=rd.randrange(10,1000), size=5)\n",
        "    data.loc[gene,'ko1':'ko5'] = np.random.poisson(lam=rd.randrange(10,1000), size=5)"
      ]
    },
    {
      "cell_type": "code",
      "execution_count": 6,
      "metadata": {
        "colab": {
          "base_uri": "https://localhost:8080/"
        },
        "id": "4f7Y9MJD0OZn",
        "outputId": "64f253d2-1e0a-417d-ac6f-b3d3a492f2ab"
      },
      "outputs": [
        {
          "name": "stdout",
          "output_type": "stream",
          "text": [
            "       wt1  wt2  wt3  wt4  wt5  ko1  ko2  ko3  ko4  ko5\n",
            "gene1  921  929  999  970  922  946  948  932  996  948\n",
            "gene2  237  245  260  237  241  728  771  679  713  743\n",
            "gene3  226  210  237  203  227  572  605  603  576  616\n",
            "gene4  753  803  767  733  737  511  504  510  493  528\n",
            "gene5  772  794  782  798  788  661  627  628  628  605\n"
          ]
        }
      ],
      "source": [
        "print(data.head())"
      ]
    },
    {
      "cell_type": "code",
      "execution_count": 7,
      "metadata": {
        "colab": {
          "base_uri": "https://localhost:8080/"
        },
        "id": "4WPrgvkx0Phm",
        "outputId": "821d8f04-b62d-46dd-9c99-7c25aa75d39b"
      },
      "outputs": [
        {
          "name": "stdout",
          "output_type": "stream",
          "text": [
            "(100, 10)\n"
          ]
        }
      ],
      "source": [
        "print(data.shape)"
      ]
    },
    {
      "cell_type": "code",
      "execution_count": 8,
      "metadata": {
        "colab": {
          "base_uri": "https://localhost:8080/",
          "height": 280
        },
        "id": "68hNSaBv0rW8",
        "outputId": "4fa84b12-b696-4416-889e-f16639aeb6a9"
      },
      "outputs": [
        {
          "data": {
            "text/html": [
              "<div>\n",
              "<style scoped>\n",
              "    .dataframe tbody tr th:only-of-type {\n",
              "        vertical-align: middle;\n",
              "    }\n",
              "\n",
              "    .dataframe tbody tr th {\n",
              "        vertical-align: top;\n",
              "    }\n",
              "\n",
              "    .dataframe thead th {\n",
              "        text-align: right;\n",
              "    }\n",
              "</style>\n",
              "<table border=\"1\" class=\"dataframe\">\n",
              "  <thead>\n",
              "    <tr style=\"text-align: right;\">\n",
              "      <th></th>\n",
              "      <th>gene1</th>\n",
              "      <th>gene2</th>\n",
              "      <th>gene3</th>\n",
              "      <th>gene4</th>\n",
              "      <th>gene5</th>\n",
              "      <th>gene6</th>\n",
              "      <th>gene7</th>\n",
              "      <th>gene8</th>\n",
              "      <th>gene9</th>\n",
              "      <th>gene10</th>\n",
              "      <th>...</th>\n",
              "      <th>gene91</th>\n",
              "      <th>gene92</th>\n",
              "      <th>gene93</th>\n",
              "      <th>gene94</th>\n",
              "      <th>gene95</th>\n",
              "      <th>gene96</th>\n",
              "      <th>gene97</th>\n",
              "      <th>gene98</th>\n",
              "      <th>gene99</th>\n",
              "      <th>gene100</th>\n",
              "    </tr>\n",
              "  </thead>\n",
              "  <tbody>\n",
              "    <tr>\n",
              "      <th>wt1</th>\n",
              "      <td>921</td>\n",
              "      <td>237</td>\n",
              "      <td>226</td>\n",
              "      <td>753</td>\n",
              "      <td>772</td>\n",
              "      <td>129</td>\n",
              "      <td>679</td>\n",
              "      <td>481</td>\n",
              "      <td>140</td>\n",
              "      <td>230</td>\n",
              "      <td>...</td>\n",
              "      <td>598</td>\n",
              "      <td>898</td>\n",
              "      <td>132</td>\n",
              "      <td>484</td>\n",
              "      <td>295</td>\n",
              "      <td>745</td>\n",
              "      <td>559</td>\n",
              "      <td>932</td>\n",
              "      <td>698</td>\n",
              "      <td>15</td>\n",
              "    </tr>\n",
              "    <tr>\n",
              "      <th>wt2</th>\n",
              "      <td>929</td>\n",
              "      <td>245</td>\n",
              "      <td>210</td>\n",
              "      <td>803</td>\n",
              "      <td>794</td>\n",
              "      <td>126</td>\n",
              "      <td>664</td>\n",
              "      <td>507</td>\n",
              "      <td>145</td>\n",
              "      <td>199</td>\n",
              "      <td>...</td>\n",
              "      <td>604</td>\n",
              "      <td>954</td>\n",
              "      <td>158</td>\n",
              "      <td>396</td>\n",
              "      <td>352</td>\n",
              "      <td>753</td>\n",
              "      <td>576</td>\n",
              "      <td>975</td>\n",
              "      <td>675</td>\n",
              "      <td>11</td>\n",
              "    </tr>\n",
              "    <tr>\n",
              "      <th>wt3</th>\n",
              "      <td>999</td>\n",
              "      <td>260</td>\n",
              "      <td>237</td>\n",
              "      <td>767</td>\n",
              "      <td>782</td>\n",
              "      <td>116</td>\n",
              "      <td>629</td>\n",
              "      <td>526</td>\n",
              "      <td>119</td>\n",
              "      <td>208</td>\n",
              "      <td>...</td>\n",
              "      <td>622</td>\n",
              "      <td>991</td>\n",
              "      <td>141</td>\n",
              "      <td>454</td>\n",
              "      <td>344</td>\n",
              "      <td>701</td>\n",
              "      <td>611</td>\n",
              "      <td>962</td>\n",
              "      <td>710</td>\n",
              "      <td>18</td>\n",
              "    </tr>\n",
              "    <tr>\n",
              "      <th>wt4</th>\n",
              "      <td>970</td>\n",
              "      <td>237</td>\n",
              "      <td>203</td>\n",
              "      <td>733</td>\n",
              "      <td>798</td>\n",
              "      <td>114</td>\n",
              "      <td>687</td>\n",
              "      <td>487</td>\n",
              "      <td>128</td>\n",
              "      <td>204</td>\n",
              "      <td>...</td>\n",
              "      <td>625</td>\n",
              "      <td>981</td>\n",
              "      <td>134</td>\n",
              "      <td>413</td>\n",
              "      <td>366</td>\n",
              "      <td>780</td>\n",
              "      <td>589</td>\n",
              "      <td>1035</td>\n",
              "      <td>752</td>\n",
              "      <td>13</td>\n",
              "    </tr>\n",
              "    <tr>\n",
              "      <th>wt5</th>\n",
              "      <td>922</td>\n",
              "      <td>241</td>\n",
              "      <td>227</td>\n",
              "      <td>737</td>\n",
              "      <td>788</td>\n",
              "      <td>120</td>\n",
              "      <td>688</td>\n",
              "      <td>508</td>\n",
              "      <td>122</td>\n",
              "      <td>214</td>\n",
              "      <td>...</td>\n",
              "      <td>612</td>\n",
              "      <td>942</td>\n",
              "      <td>141</td>\n",
              "      <td>420</td>\n",
              "      <td>315</td>\n",
              "      <td>752</td>\n",
              "      <td>583</td>\n",
              "      <td>952</td>\n",
              "      <td>669</td>\n",
              "      <td>14</td>\n",
              "    </tr>\n",
              "  </tbody>\n",
              "</table>\n",
              "<p>5 rows × 100 columns</p>\n",
              "</div>"
            ],
            "text/plain": [
              "    gene1 gene2 gene3 gene4 gene5 gene6 gene7 gene8 gene9 gene10  ... gene91  \\\n",
              "wt1   921   237   226   753   772   129   679   481   140    230  ...    598   \n",
              "wt2   929   245   210   803   794   126   664   507   145    199  ...    604   \n",
              "wt3   999   260   237   767   782   116   629   526   119    208  ...    622   \n",
              "wt4   970   237   203   733   798   114   687   487   128    204  ...    625   \n",
              "wt5   922   241   227   737   788   120   688   508   122    214  ...    612   \n",
              "\n",
              "    gene92 gene93 gene94 gene95 gene96 gene97 gene98 gene99 gene100  \n",
              "wt1    898    132    484    295    745    559    932    698      15  \n",
              "wt2    954    158    396    352    753    576    975    675      11  \n",
              "wt3    991    141    454    344    701    611    962    710      18  \n",
              "wt4    981    134    413    366    780    589   1035    752      13  \n",
              "wt5    942    141    420    315    752    583    952    669      14  \n",
              "\n",
              "[5 rows x 100 columns]"
            ]
          },
          "execution_count": 8,
          "metadata": {},
          "output_type": "execute_result"
        }
      ],
      "source": [
        "data=data.T\n",
        "data.head()"
      ]
    },
    {
      "cell_type": "markdown",
      "metadata": {
        "id": "46fmWbbO00B3"
      },
      "source": [
        "Data yang dimiliki adalah data dengan 100 fitur (genes) ditunjukkan oleh **KOLOM**. Dan 10 observasi data **BARIS**"
      ]
    },
    {
      "cell_type": "markdown",
      "metadata": {
        "id": "sfG1jg1m1BIw"
      },
      "source": [
        "# Perform PCA on the data"
      ]
    },
    {
      "cell_type": "markdown",
      "metadata": {
        "id": "VJLt70OY1WVT"
      },
      "source": [
        "scale = $\\frac{(measure-mean)^2}{n.measurements}$"
      ]
    },
    {
      "cell_type": "code",
      "execution_count": 9,
      "metadata": {
        "id": "J0N5c_Z30zio"
      },
      "outputs": [],
      "source": [
        "# First center and scale the data\n",
        "scaled_data = preprocessing.scale(data)"
      ]
    },
    {
      "cell_type": "code",
      "execution_count": 19,
      "metadata": {
        "id": "UIgtoxDf23ax"
      },
      "outputs": [],
      "source": [
        "pca = PCA() # create a PCA object\n",
        "pca.fit(scaled_data) # do the math\n",
        "pca_data = pca.transform(scaled_data) # get PCA coordinates for scaled_data"
      ]
    },
    {
      "cell_type": "markdown",
      "metadata": {
        "id": "0jbJQxa83I0Z"
      },
      "source": [
        "# Draw a scree plot and a PCA plot"
      ]
    },
    {
      "cell_type": "code",
      "execution_count": 11,
      "metadata": {
        "colab": {
          "base_uri": "https://localhost:8080/",
          "height": 295
        },
        "id": "dB3bxqO83Jjc",
        "outputId": "4395806b-bd17-41b1-c256-4b52868c061a"
      },
      "outputs": [
        {
          "data": {
            "image/png": "[encoded data removed]",
            "text/plain": [
              "<Figure size 432x288 with 1 Axes>"
            ]
          },
          "metadata": {
            "needs_background": "light"
          },
          "output_type": "display_data"
        }
      ],
      "source": [
        "#The following code constructs the Scree plot\n",
        "per_var = np.round(pca.explained_variance_ratio_* 100, decimals=1)\n",
        "labels = ['PC' + str(x) for x in range(1, len(per_var)+1)]\n",
        " \n",
        "plt.bar(x=range(1,len(per_var)+1), height=per_var, tick_label=labels)\n",
        "plt.ylabel('Percentage of Explained Variance')\n",
        "plt.xlabel('Principal Component')\n",
        "plt.title('Scree Plot')\n",
        "plt.show()"
      ]
    },
    {
      "cell_type": "code",
      "execution_count": 12,
      "metadata": {
        "colab": {
          "base_uri": "https://localhost:8080/"
        },
        "id": "2POKkl_9CBCX",
        "outputId": "a5e4f32b-b465-48b7-fa7e-7c089ccf9828"
      },
      "outputs": [
        {
          "data": {
            "text/plain": [
              "array([88.6,  3.3,  2.5,  1.8,  1.3,  0.9,  0.8,  0.4,  0.3,  0. ])"
            ]
          },
          "execution_count": 12,
          "metadata": {},
          "output_type": "execute_result"
        }
      ],
      "source": [
        "np.round(pca.explained_variance_ratio_* 100, decimals=1)"
      ]
    },
    {
      "cell_type": "code",
      "execution_count": 13,
      "metadata": {
        "colab": {
          "base_uri": "https://localhost:8080/",
          "height": 295
        },
        "id": "xkdrH4To65uR",
        "outputId": "50c66fb0-8d5c-4b88-fd69-8ed19bb5b4ec"
      },
      "outputs": [
        {
          "data": {
            "image/png": "[encoded data removed]",
            "text/plain": [
              "<Figure size 432x288 with 1 Axes>"
            ]
          },
          "metadata": {
            "needs_background": "light"
          },
          "output_type": "display_data"
        }
      ],
      "source": [
        "\n",
        "#the following code makes a fancy looking plot using PC1 and PC2\n",
        "pca_df = pd.DataFrame(pca_data, index=[*wt, *ko], columns=labels)\n",
        " \n",
        "plt.scatter(pca_df.PC1, pca_df.PC2)\n",
        "plt.title('My PCA Graph')\n",
        "plt.xlabel('PC1 - {0}%'.format(per_var[0]))\n",
        "plt.ylabel('PC2 - {0}%'.format(per_var[1]))\n",
        " \n",
        "for sample in pca_df.index:\n",
        "    plt.annotate(sample, (pca_df.PC1.loc[sample], pca_df.PC2.loc[sample]))\n",
        " \n",
        "plt.show()"
      ]
    },
    {
      "cell_type": "markdown",
      "metadata": {
        "id": "zx45UoT7CZgw"
      },
      "source": [
        "**Insight**\n",
        "\n",
        "\n",
        "\n",
        "*   Secara umum data terdiri atas 2 cluster yaitu ko dan wt\n",
        "*   Semakin jauh jarak titik observasi semakin jauh karakteristiknya\n",
        "*   Nilai informasi yang ditangkap oleh visualisi diatas PC 1 sebesar 92.5%\n",
        " \n",
        "\n",
        "\n",
        "\n"
      ]
    },
    {
      "cell_type": "markdown",
      "metadata": {
        "id": "tZIi605X-o_W"
      },
      "source": [
        "# Determine which genes had the biggest influence on PC1"
      ]
    },
    {
      "cell_type": "code",
      "execution_count": 14,
      "metadata": {
        "colab": {
          "base_uri": "https://localhost:8080/"
        },
        "id": "sUP9UA1F-pzG",
        "outputId": "07a55162-873e-427d-ae43-ea8a119cb559"
      },
      "outputs": [
        {
          "data": {
            "text/plain": [
              "gene1      0.009757\n",
              "gene2      0.105572\n",
              "gene3      0.105810\n",
              "gene4     -0.104924\n",
              "gene5     -0.104421\n",
              "             ...   \n",
              "gene96    -0.102890\n",
              "gene97    -0.106152\n",
              "gene98    -0.105992\n",
              "gene99    -0.105942\n",
              "gene100    0.105976\n",
              "Length: 100, dtype: float64"
            ]
          },
          "execution_count": 14,
          "metadata": {},
          "output_type": "execute_result"
        }
      ],
      "source": [
        "## get the name of the top 10 measurements (genes) that contribute\n",
        "## most to pc1.\n",
        "## first, get the loading scores\n",
        "loading_scores = pd.Series(pca.components_[0], index=genes)\n",
        "loading_scores"
      ]
    },
    {
      "cell_type": "markdown",
      "metadata": {
        "id": "rMCsUT-L_pYD"
      },
      "source": [
        "Loading score menunjukkan nilai korelasi fitur terhadap PC, semakin besar loading score semakin memberi kontribusi yang besar terhadap PC"
      ]
    },
    {
      "cell_type": "code",
      "execution_count": 15,
      "metadata": {
        "colab": {
          "base_uri": "https://localhost:8080/"
        },
        "id": "u-rO5Rh3_Fpo",
        "outputId": "6d34c6ea-aa0f-44a0-97a7-eb9c9aa73d5f"
      },
      "outputs": [
        {
          "data": {
            "text/plain": [
              "gene58    0.106198\n",
              "gene45    0.106195\n",
              "gene89    0.106185\n",
              "gene69    0.106169\n",
              "gene46    0.106161\n",
              "            ...   \n",
              "gene94    0.054215\n",
              "gene35    0.050012\n",
              "gene42    0.041749\n",
              "gene22    0.034873\n",
              "gene1     0.009757\n",
              "Length: 100, dtype: float64"
            ]
          },
          "execution_count": 15,
          "metadata": {},
          "output_type": "execute_result"
        }
      ],
      "source": [
        "## now sort the loading scores based on their magnitude (besar ke kecil)\n",
        "sorted_loading_scores = loading_scores.abs().sort_values(ascending=False)\n",
        "sorted_loading_scores"
      ]
    },
    {
      "cell_type": "code",
      "execution_count": 16,
      "metadata": {
        "id": "yTqZCYP2ABvu"
      },
      "outputs": [],
      "source": [
        "# get the names of the top 10 genes\n",
        "top_10_genes = sorted_loading_scores[0:10].index.values"
      ]
    },
    {
      "cell_type": "code",
      "execution_count": 17,
      "metadata": {
        "colab": {
          "base_uri": "https://localhost:8080/"
        },
        "id": "4lK7WJkbADJX",
        "outputId": "02813645-f08f-468d-e210-76669ff366f4"
      },
      "outputs": [
        {
          "name": "stdout",
          "output_type": "stream",
          "text": [
            "gene58   -0.106198\n",
            "gene45    0.106195\n",
            "gene89    0.106185\n",
            "gene69    0.106169\n",
            "gene46    0.106161\n",
            "gene75   -0.106156\n",
            "gene43    0.106155\n",
            "gene97   -0.106152\n",
            "gene54    0.106149\n",
            "gene66   -0.106132\n",
            "dtype: float64\n"
          ]
        }
      ],
      "source": [
        "## print the gene names and their scores (and +/- sign)\n",
        "print(loading_scores[top_10_genes])"
      ]
    },
    {
      "cell_type": "code",
      "execution_count": 18,
      "metadata": {
        "id": "d8E4bNBLFEZx"
      },
      "outputs": [
        {
          "ename": "SyntaxError",
          "evalue": "invalid syntax (Temp/ipykernel_11440/664869943.py, line 1)",
          "output_type": "error",
          "traceback": [
            "\u001b[1;36m  File \u001b[1;32m\"C:\\Users\\hp\\AppData\\Local\\Temp/ipykernel_11440/664869943.py\"\u001b[1;36m, line \u001b[1;32m1\u001b[0m\n\u001b[1;33m    10 variabel yang memberikan impact tertinggi pada PC\u001b[0m\n\u001b[1;37m       ^\u001b[0m\n\u001b[1;31mSyntaxError\u001b[0m\u001b[1;31m:\u001b[0m invalid syntax\n"
          ]
        }
      ],
      "source": [
        "10 variabel yang memberikan impact tertinggi pada PC"
      ]
    },
    {
      "cell_type": "markdown",
      "metadata": {
        "id": "lVIcq8IeBwKZ"
      },
      "source": [
        "PCA bagian dari Unsupervised Learning\n",
        "\n",
        "PCA dapat Melihat karakteristik data high dimensi\n",
        "\n"
      ]
    },
    {
      "cell_type": "markdown",
      "metadata": {
        "id": "gPnPA8uHBzUc"
      },
      "source": [
        "## Self Learning: Membuat PCA dengan data Iris yang telah dikenali sebelumnya"
      ]
    }
  ],
  "metadata": {
    "colab": {
      "name": "Salinan dari Principal Component Analysis.ipynb",
      "provenance": []
    },
    "kernelspec": {
      "display_name": "Python 3",
      "name": "python3"
    },
    "language_info": {
      "codemirror_mode": {
        "name": "ipython",
        "version": 3
      },
      "file_extension": ".py",
      "mimetype": "text/x-python",
      "name": "python",
      "nbconvert_exporter": "python",
      "pygments_lexer": "ipython3",
      "version": "3.9.7"
    }
  },
  "nbformat": 4,
  "nbformat_minor": 0
}
