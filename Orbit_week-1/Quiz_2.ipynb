{
 "cells": [
  {
   "cell_type": "markdown",
   "id": "caecc540",
   "metadata": {},
   "source": [
    "# Program Untuk Menentukan gaji Karyawan"
   ]
  },
  {
   "cell_type": "code",
   "execution_count": 19,
   "id": "79ad979c",
   "metadata": {
    "scrolled": true
   },
   "outputs": [
    {
     "name": "stdout",
     "output_type": "stream",
     "text": [
      "Ketentuan Gaji Karyawan\n",
      "=======================\n",
      "Masukan Nama      : AS\n",
      "Masukan Golongan  : d\n",
      "Masukan Jam Kerja : 50\n",
      "\n",
      "Gaji Karyawan\n",
      "=============\n",
      "Nama : AS\n",
      "Gaji : Rp.508000,00\n"
     ]
    }
   ],
   "source": [
    "print(\"Ketentuan Gaji Karyawan\\n\"+\n",
    "     \"=======================\")\n",
    "\n",
    "nama      = input(\"Masukan Nama      : \")\n",
    "golongan  = input(\"Masukan Golongan  : \")\n",
    "jam_kerja = int(input(\"Masukan Jam Kerja : \"))\n",
    "\n",
    "if golongan.upper() == 'A':\n",
    "    upah = 5000\n",
    "elif golongan.upper() == 'B':\n",
    "    upah = 7000\n",
    "elif golongan.upper() == 'C':\n",
    "    upah = 8000\n",
    "elif golongan.upper() == 'D':\n",
    "    upah = 10000\n",
    "\n",
    "if jam_kerja >= 48:\n",
    "    lembur = (jam_kerja-48)*4000\n",
    "    gaji = (jam_kerja*upah) + lembur\n",
    "    \n",
    "else:\n",
    "    gaji = (jam_kerja*upah)\n",
    "    \n",
    "print(\"\\nGaji Karyawan\\n\"+\"=============\")\n",
    "print(\"Nama :\",nama)\n",
    "print(\"Gaji :\",gaji)"
   ]
  },
  {
   "cell_type": "markdown",
   "id": "542a9e0a",
   "metadata": {},
   "source": [
    "# menampilkan susunan bintang"
   ]
  },
  {
   "cell_type": "code",
   "execution_count": 39,
   "id": "f7a7dcbf",
   "metadata": {},
   "outputs": [
    {
     "name": "stdout",
     "output_type": "stream",
     "text": [
      "Masukan Jumlah Maks Bintang = 7\n",
      "\n",
      "*  \n",
      "*  *  \n",
      "*  *  *  \n",
      "*  *  *  *  \n",
      "*  *  *  *  *  \n",
      "*  *  *  *  *  *  \n",
      "*  *  *  *  *  *  *  \n"
     ]
    }
   ],
   "source": [
    "jml = input(\"Masukan Jumlah Maks Bintang = \")\n",
    "\n",
    "for i in range(int(jml)+1):\n",
    "    print(\"* \"*i)"
   ]
  },
  {
   "cell_type": "code",
   "execution_count": null,
   "id": "b6102f5b",
   "metadata": {},
   "outputs": [],
   "source": []
  }
 ],
 "metadata": {
  "kernelspec": {
   "display_name": "Python 3 (ipykernel)",
   "language": "python",
   "name": "python3"
  },
  "language_info": {
   "codemirror_mode": {
    "name": "ipython",
    "version": 3
   },
   "file_extension": ".py",
   "mimetype": "text/x-python",
   "name": "python",
   "nbconvert_exporter": "python",
   "pygments_lexer": "ipython3",
   "version": "3.9.7"
  }
 },
 "nbformat": 4,
 "nbformat_minor": 5
}
