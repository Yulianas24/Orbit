{
 "cells": [
  {
   "cell_type": "code",
   "execution_count": null,
   "id": "851c607c",
   "metadata": {},
   "outputs": [],
   "source": [
    "print(\"Konversi Suhu :\")\n",
    "print(\"============================\")\n",
    "\n",
    "c = 15\n",
    "f = (9/5) * c + 32\n",
    "k = c + 273.15\n",
    "r = (4/5) * c\n",
    "\n",
    "print(\"Celcius    = \", c)\n",
    "print(\"Fahrenheit = \", f)\n",
    "print(\"Kelvin     = \", k)\n",
    "print(\"Reamur     = \", r)\n"
   ]
  },
  {
   "cell_type": "code",
   "execution_count": null,
   "id": "25624e6a",
   "metadata": {},
   "outputs": [],
   "source": [
    "print(\"Input Data\")\n",
    "print(\"=========================\")\n",
    "nama = input(\"Masukan Nama      : \")\n",
    "nim = input(\"Masukan NIM       : \")\n",
    "fakultas = input(\"Masukan Fakultas  : \")\n",
    "jurusan = input(\"Masukan Jurusan   : \")\n",
    "kota = input(\"Masukan Kota Asal : \")\n",
    "alamat = input(\"Masukan Alamat    : \")\n",
    "\n",
    "print(\"==========Hasil===========\")\n",
    "print(\"Nama     : \", nama)\n",
    "print(\"NIM      : \", nim)\n",
    "print(\"Fakultas : \", fakultas)\n",
    "print(\"jurusan  : \", jurusan)\n",
    "print(\"kota     : \", kota)\n",
    "print(\"alamat   : \", alamat)\n"
   ]
  },
  {
   "cell_type": "code",
   "execution_count": null,
   "id": "45d832f2",
   "metadata": {},
   "outputs": [],
   "source": [
    "\n",
    "import mpmath\n",
    "a = 2\n",
    "b = 3\n",
    "c = 4\n",
    "\n",
    "\n",
    "print(f\"hasil persamaan kuadrat {a}x^2 + {b}x + c = 0 adalah ...\")\n",
    "d = (b**2) - (4*a*c)\n",
    "x1 = (-b+mpmath.sqrt(d))/(2*a)\n",
    "x2 = (-b-mpmath.sqrt(d))/(2*a)\n",
    "print(f\"X1 = ({x1} dan X2 =  {x2})\")\n"
   ]
  },
  {
   "cell_type": "code",
   "execution_count": null,
   "id": "6d9f4c4d",
   "metadata": {},
   "outputs": [],
   "source": [
    "pil = 'y'\n",
    "kopi = (\"Espresso\", \"Capucino\", \"Moccacino\", \"Vanilla Latte\", \"Hazelnut Latte\")\n",
    "while (pil == 'y'):\n",
    "    print(\"## Daftar Menu Kopi Ilkom ##\")\n",
    "    print(\"============================\")\n",
    "    for i in range(len(kopi)):\n",
    "        print(f\"{i+1}.{kopi[i]}\")\n",
    "    print(\"\\nPilihan Anda : \\n\\n\")\n",
    "    inp = int(input(\"Pilihan Anda : \"))\n",
    "    print(f\"Anda Memilih {kopi[inp-1]}\\n\")\n",
    "    pil = input(\"Ingin memilih menu lain? (y/t)\")\n"
   ]
  },
  {
   "cell_type": "code",
   "execution_count": null,
   "id": "68fc11a2",
   "metadata": {},
   "outputs": [],
   "source": []
  }
 ],
 "metadata": {
  "kernelspec": {
   "display_name": "Python 3 (ipykernel)",
   "language": "python",
   "name": "python3"
  },
  "language_info": {
   "codemirror_mode": {
    "name": "ipython",
    "version": 3
   },
   "file_extension": ".py",
   "mimetype": "text/x-python",
   "name": "python",
   "nbconvert_exporter": "python",
   "pygments_lexer": "ipython3",
   "version": "3.9.7"
  }
 },
 "nbformat": 4,
 "nbformat_minor": 5
}
