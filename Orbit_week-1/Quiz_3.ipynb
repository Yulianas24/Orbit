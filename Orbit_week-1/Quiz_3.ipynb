{
 "cells": [
  {
   "cell_type": "markdown",
   "metadata": {},
   "source": [
    "# Quiz 3\n"
   ]
  },
  {
   "cell_type": "code",
   "execution_count": 1,
   "metadata": {},
   "outputs": [
    {
     "name": "stdout",
     "output_type": "stream",
     "text": [
      "Masukan : [1, 1, 1, 1, 1]\n",
      "Hasil Penjumlahan : 5\n"
     ]
    }
   ],
   "source": [
    "mylist = []\n",
    "for i in range(5):\n",
    "  mylist.append(int(input(\"Masukan Angka : \")))\n",
    "print(f\"Masukan : {mylist}\")\n",
    "print(\"Hasil Penjumlahan :\", sum(mylist))"
   ]
  },
  {
   "cell_type": "code",
   "execution_count": 2,
   "metadata": {},
   "outputs": [
    {
     "name": "stdout",
     "output_type": "stream",
     "text": [
      " Input Asal: \n",
      "['Red', 'Blue', 'Black', 'White', 'Pink']\n",
      "\n",
      " Output : \n",
      "[['R', 'e', 'd'], ['B', 'l', 'u', 'e'], ['B', 'l', 'a', 'c', 'k'], ['W', 'h', 'i', 't', 'e'], ['P', 'i', 'n', 'k']]\n"
     ]
    }
   ],
   "source": [
    "colors = ['Red','Blue','Black','White','Pink']\n",
    "# c = map(list,colors)\n",
    "c = []\n",
    "for i in range(len(colors)):\n",
    "  c.append([char for char in colors[i]])\n",
    "print(f\" Input Asal: \\n{colors}\\n\" )\n",
    "print(f\" Output : \\n{list(c)}\")"
   ]
  },
  {
   "cell_type": "code",
   "execution_count": 4,
   "metadata": {},
   "outputs": [
    {
     "name": "stdout",
     "output_type": "stream",
     "text": [
      "Original List:\n",
      "[[6, 5, 3, 9], [0, 1, 7, 7], [1, 2, 3, 4]]\n",
      "\n",
      "Result\n",
      "[7, 8, 13, 20]\n"
     ]
    }
   ],
   "source": [
    "original = [\n",
    "  [6,5,3,9], \n",
    "  [0,1,7,7],\n",
    "  [1,2,3,4]\n",
    "]\n",
    "result = map(lambda x,y,z: x+y+z, original[0],original[1],original[2])\n",
    "# for i in range(len(original[0])):\n",
    "#   result.append(original[0][i] + original[1][i])\n",
    "print(f\"Original List:\\n{original}\\n\")\n",
    "print(f\"Result\\n{list(result)}\")"
   ]
  },
  {
   "cell_type": "code",
   "execution_count": 59,
   "metadata": {},
   "outputs": [
    {
     "name": "stdout",
     "output_type": "stream",
     "text": [
      "Original List : \n",
      "[1, 2, 3, 4, 5, 6, 7, 8, 9, 10]\n",
      "\n",
      "Bilangan Genap : \n",
      "[2, 4, 6, 8, 10]\n",
      "\n",
      "Bilangan Ganjil: \n",
      "[1, 3, 5, 7, 9]\n",
      "\n"
     ]
    }
   ],
   "source": [
    "original = [1,2,3,4,5,6,7,8,9,10]\n",
    "genap = [x for x in original if x%2==0]\n",
    "ganjil = [x for x in original if x%2==1]\n",
    "\n",
    "print(f\"Original List : \\n{original}\\n\")\n",
    "print(f\"Bilangan Genap : \\n{genap}\\n\")\n",
    "print(f\"Bilangan Ganjil: \\n{ganjil}\\n\")"
   ]
  }
 ],
 "metadata": {
  "interpreter": {
   "hash": "a12d694c3ccac42055183a0ad11e659c6a2db5c6555ad2c8919d5814fd4e404f"
  },
  "kernelspec": {
   "display_name": "Python 3.9.7 64-bit",
   "language": "python",
   "name": "python3"
  },
  "language_info": {
   "codemirror_mode": {
    "name": "ipython",
    "version": 3
   },
   "file_extension": ".py",
   "mimetype": "text/x-python",
   "name": "python",
   "nbconvert_exporter": "python",
   "pygments_lexer": "ipython3",
   "version": "3.9.7"
  },
  "orig_nbformat": 4
 },
 "nbformat": 4,
 "nbformat_minor": 2
}
