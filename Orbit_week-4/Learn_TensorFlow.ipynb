{
 "cells": [
  {
   "cell_type": "code",
   "execution_count": null,
   "metadata": {},
   "outputs": [],
   "source": [
    "import tensorflow as tf\n",
    "from tensorflow import keras\n"
   ]
  },
  {
   "cell_type": "code",
   "execution_count": null,
   "metadata": {},
   "outputs": [],
   "source": [
    "NB_CLASSES = 10\n",
    "RESHAPED = 784\n",
    "\n",
    "mnist = keras.datasets.mnist\n",
    "(X_train, Y_train), (X_test, Y_test) = mnist.load_data()\n",
    "\n",
    "X_train = X_train.reshape(60000, RESHAPED)\n",
    "X_test = X_test.reshape(10000, RESHAPED)\n",
    "X_train = X_train.astype('float32')\n",
    "X_test = X_test.astype('float32')"
   ]
  },
  {
   "cell_type": "code",
   "execution_count": null,
   "metadata": {},
   "outputs": [],
   "source": [
    "X_train, X_test = X_train/255.0, X_test/255.0\n"
   ]
  },
  {
   "cell_type": "code",
   "execution_count": null,
   "metadata": {},
   "outputs": [],
   "source": [
    "Y_train = tf.keras.utils.to_categorical(Y_train, NB_CLASSES)\n",
    "Y_test = tf.keras.utils.to_categorical(Y_test, NB_CLASSES)\n",
    "\n",
    "print(Y_train.shape)\n",
    "print(Y_test.shape)"
   ]
  },
  {
   "cell_type": "code",
   "execution_count": null,
   "metadata": {},
   "outputs": [],
   "source": [
    "from os import name\n",
    "model = tf.keras.models.Sequential()\n",
    "model.add(keras.layers.Dense(NB_CLASSES,input_shape=(RESHAPED,), kernel_initializer='zeros', name = 'dense_layer', activation='softmax'))\n",
    "model.summary()\n",
    "model.compile(optimizer='SGD', loss='categorical_crossentropy', metrics=['accuracy'])"
   ]
  },
  {
   "cell_type": "code",
   "execution_count": null,
   "metadata": {},
   "outputs": [],
   "source": [
    "EPOCHS = 50\n",
    "BATCH_SIZE = 128\n",
    "VERBOSE = 1\n",
    "VALIDATION_SPLIT = 0.2\n",
    "\n",
    "model.fit(X_train,Y_train, batch_size=BATCH_SIZE, epochs=EPOCHS, verbose= VERBOSE,validation_split=VALIDATION_SPLIT)\n",
    "test_loss, test_acc = model.evaluate(X_test, Y_test)\n",
    "print(\"Test Accuracy : \", test_acc)"
   ]
  },
  {
   "cell_type": "code",
   "execution_count": null,
   "metadata": {},
   "outputs": [],
   "source": [
    "from sklearn.datasets import fetch_california_housing\n",
    "import numpy as np\n",
    "import matplotlib.pyplot as plt\n",
    "\n",
    "california = fetch_california_housing()\n",
    "x = california.target\n",
    "y= (1/(1+np.exp(-x)))\n",
    "\n",
    "plt.plot(x,y)\n",
    "plt.show()\n"
   ]
  },
  {
   "cell_type": "code",
   "execution_count": 14,
   "metadata": {},
   "outputs": [],
   "source": [
    "import tensorflow as tf\n",
    "import numpy as np\n",
    "from tensorflow import keras"
   ]
  },
  {
   "cell_type": "code",
   "execution_count": 15,
   "metadata": {},
   "outputs": [],
   "source": [
    "EPOCHS = 30\n",
    "BATCH_SIZE = 128\n",
    "VERBOSE = 1\n",
    "NB_CLASSES = 10\n",
    "N_HIDDEN = 128\n",
    "VALIDATION_SPLIT = 0.2"
   ]
  },
  {
   "cell_type": "code",
   "execution_count": 17,
   "metadata": {},
   "outputs": [
    {
     "name": "stdout",
     "output_type": "stream",
     "text": [
      "60000\n",
      "10000\n"
     ]
    }
   ],
   "source": [
    "mnist = keras.datasets.mnist\n",
    "(X_train, Y_train), (X_test, Y_test) = mnist.load_data()\n",
    "\n",
    "RESHAPED = 784\n",
    "X_train = X_train.reshape(60000, RESHAPED)\n",
    "X_test = X_test.reshape(10000, RESHAPED)\n",
    "\n",
    "X_train  = X_train.astype('float32')\n",
    "X_test  = X_test.astype('float32')\n",
    "\n",
    "X_train /= 255.0\n",
    "X_test /= 255.0\n",
    "\n",
    "print(X_train.shape[0])\n",
    "print(X_test.shape[0])\n",
    "\n"
   ]
  },
  {
   "cell_type": "code",
   "execution_count": 18,
   "metadata": {},
   "outputs": [],
   "source": [
    "Y_train = tf.keras.utils.to_categorical(Y_train, NB_CLASSES)\n",
    "Y_test = tf.keras.utils.to_categorical(Y_test, NB_CLASSES)"
   ]
  },
  {
   "cell_type": "code",
   "execution_count": 23,
   "metadata": {},
   "outputs": [
    {
     "name": "stdout",
     "output_type": "stream",
     "text": [
      "Model: \"sequential_2\"\n",
      "_________________________________________________________________\n",
      " Layer (type)                Output Shape              Param #   \n",
      "=================================================================\n",
      " dense_layer0 (Dense)        (None, 128)               100480    \n",
      "                                                                 \n",
      " dense_layer1 (Dense)        (None, 128)               16512     \n",
      "                                                                 \n",
      " dense_layer2 (Dense)        (None, 128)               16512     \n",
      "                                                                 \n",
      " dense_layer3 (Dense)        (None, 128)               16512     \n",
      "                                                                 \n",
      " dense_layer4 (Dense)        (None, 128)               16512     \n",
      "                                                                 \n",
      " dense_layer5 (Dense)        (None, 10)                1290      \n",
      "                                                                 \n",
      "=================================================================\n",
      "Total params: 167,818\n",
      "Trainable params: 167,818\n",
      "Non-trainable params: 0\n",
      "_________________________________________________________________\n"
     ]
    }
   ],
   "source": [
    "model = tf.keras.models.Sequential()\n",
    "model.add(keras.layers.Dense(N_HIDDEN, input_shape= (RESHAPED,), name='dense_layer0', activation = 'relu'))\n",
    "model.add(keras.layers.Dense(N_HIDDEN, name='dense_layer1', activation = 'relu'))\n",
    "model.add(keras.layers.Dense(N_HIDDEN, name='dense_layer2', activation = 'relu'))\n",
    "model.add(keras.layers.Dense(N_HIDDEN, name='dense_layer3', activation = 'relu'))\n",
    "model.add(keras.layers.Dense(N_HIDDEN, name='dense_layer4', activation = 'relu'))\n",
    "model.add(keras.layers.Dense(NB_CLASSES, name='dense_layer5', activation = 'softmax'))\n",
    "model.summary()"
   ]
  },
  {
   "cell_type": "code",
   "execution_count": 24,
   "metadata": {},
   "outputs": [
    {
     "name": "stdout",
     "output_type": "stream",
     "text": [
      "Epoch 1/30\n",
      "375/375 [==============================] - 3s 6ms/step - loss: 2.0200 - accuracy: 0.3965 - val_loss: 1.2912 - val_accuracy: 0.6809\n",
      "Epoch 2/30\n",
      "375/375 [==============================] - 2s 4ms/step - loss: 0.7839 - accuracy: 0.7685 - val_loss: 0.5068 - val_accuracy: 0.8548\n",
      "Epoch 3/30\n",
      "375/375 [==============================] - 2s 4ms/step - loss: 0.4532 - accuracy: 0.8653 - val_loss: 0.3623 - val_accuracy: 0.8913\n",
      "Epoch 4/30\n",
      "375/375 [==============================] - 2s 4ms/step - loss: 0.3526 - accuracy: 0.8971 - val_loss: 0.3085 - val_accuracy: 0.9054\n",
      "Epoch 5/30\n",
      "375/375 [==============================] - 2s 5ms/step - loss: 0.3023 - accuracy: 0.9110 - val_loss: 0.2701 - val_accuracy: 0.9197\n",
      "Epoch 6/30\n",
      "375/375 [==============================] - 2s 4ms/step - loss: 0.2705 - accuracy: 0.9213 - val_loss: 0.2473 - val_accuracy: 0.9276\n",
      "Epoch 7/30\n",
      "375/375 [==============================] - 2s 4ms/step - loss: 0.2465 - accuracy: 0.9277 - val_loss: 0.2384 - val_accuracy: 0.9283\n",
      "Epoch 8/30\n",
      "375/375 [==============================] - 2s 5ms/step - loss: 0.2263 - accuracy: 0.9336 - val_loss: 0.2193 - val_accuracy: 0.9342\n",
      "Epoch 9/30\n",
      "375/375 [==============================] - 2s 5ms/step - loss: 0.2102 - accuracy: 0.9376 - val_loss: 0.1990 - val_accuracy: 0.9419\n",
      "Epoch 10/30\n",
      "375/375 [==============================] - 2s 4ms/step - loss: 0.1957 - accuracy: 0.9416 - val_loss: 0.1931 - val_accuracy: 0.9446\n",
      "Epoch 11/30\n",
      "375/375 [==============================] - 2s 4ms/step - loss: 0.1835 - accuracy: 0.9450 - val_loss: 0.1802 - val_accuracy: 0.9478\n",
      "Epoch 12/30\n",
      "375/375 [==============================] - 2s 4ms/step - loss: 0.1731 - accuracy: 0.9484 - val_loss: 0.1990 - val_accuracy: 0.9400\n",
      "Epoch 13/30\n",
      "375/375 [==============================] - 2s 4ms/step - loss: 0.1635 - accuracy: 0.9511 - val_loss: 0.1696 - val_accuracy: 0.9502\n",
      "Epoch 14/30\n",
      "375/375 [==============================] - 2s 4ms/step - loss: 0.1539 - accuracy: 0.9533 - val_loss: 0.1610 - val_accuracy: 0.9522\n",
      "Epoch 15/30\n",
      "375/375 [==============================] - 2s 5ms/step - loss: 0.1459 - accuracy: 0.9569 - val_loss: 0.1596 - val_accuracy: 0.9528\n",
      "Epoch 16/30\n",
      "375/375 [==============================] - 2s 4ms/step - loss: 0.1387 - accuracy: 0.9582 - val_loss: 0.1591 - val_accuracy: 0.9528\n",
      "Epoch 17/30\n",
      "375/375 [==============================] - 2s 4ms/step - loss: 0.1326 - accuracy: 0.9608 - val_loss: 0.1453 - val_accuracy: 0.9578\n",
      "Epoch 18/30\n",
      "375/375 [==============================] - 2s 4ms/step - loss: 0.1256 - accuracy: 0.9629 - val_loss: 0.1411 - val_accuracy: 0.9594\n",
      "Epoch 19/30\n",
      "375/375 [==============================] - 2s 4ms/step - loss: 0.1206 - accuracy: 0.9640 - val_loss: 0.1380 - val_accuracy: 0.9597\n",
      "Epoch 20/30\n",
      "375/375 [==============================] - 2s 4ms/step - loss: 0.1140 - accuracy: 0.9666 - val_loss: 0.1389 - val_accuracy: 0.9597\n",
      "Epoch 21/30\n",
      "375/375 [==============================] - 2s 4ms/step - loss: 0.1094 - accuracy: 0.9676 - val_loss: 0.1451 - val_accuracy: 0.9570\n",
      "Epoch 22/30\n",
      "375/375 [==============================] - 2s 4ms/step - loss: 0.1044 - accuracy: 0.9688 - val_loss: 0.1278 - val_accuracy: 0.9637\n",
      "Epoch 23/30\n",
      "375/375 [==============================] - 2s 4ms/step - loss: 0.0999 - accuracy: 0.9708 - val_loss: 0.1314 - val_accuracy: 0.9633\n",
      "Epoch 24/30\n",
      "375/375 [==============================] - 2s 4ms/step - loss: 0.0958 - accuracy: 0.9720 - val_loss: 0.1273 - val_accuracy: 0.9630\n",
      "Epoch 25/30\n",
      "375/375 [==============================] - 2s 5ms/step - loss: 0.0917 - accuracy: 0.9733 - val_loss: 0.1246 - val_accuracy: 0.9641\n",
      "Epoch 26/30\n",
      "375/375 [==============================] - 2s 4ms/step - loss: 0.0886 - accuracy: 0.9739 - val_loss: 0.1204 - val_accuracy: 0.9664\n",
      "Epoch 27/30\n",
      "375/375 [==============================] - 2s 5ms/step - loss: 0.0855 - accuracy: 0.9750 - val_loss: 0.1218 - val_accuracy: 0.9663\n",
      "Epoch 28/30\n",
      "375/375 [==============================] - 2s 5ms/step - loss: 0.0816 - accuracy: 0.9760 - val_loss: 0.1204 - val_accuracy: 0.9661\n",
      "Epoch 29/30\n",
      "375/375 [==============================] - 2s 5ms/step - loss: 0.0787 - accuracy: 0.9773 - val_loss: 0.1169 - val_accuracy: 0.9672\n",
      "Epoch 30/30\n",
      "375/375 [==============================] - 2s 5ms/step - loss: 0.0759 - accuracy: 0.9779 - val_loss: 0.1177 - val_accuracy: 0.9678\n"
     ]
    },
    {
     "data": {
      "text/plain": [
       "<keras.callbacks.History at 0x17d87948f40>"
      ]
     },
     "execution_count": 24,
     "metadata": {},
     "output_type": "execute_result"
    }
   ],
   "source": [
    "model.compile(optimizer = 'SGD', loss='categorical_crossentropy', metrics='accuracy')\n",
    "model.fit(X_train, Y_train, batch_size=BATCH_SIZE, epochs=EPOCHS, verbose=VERBOSE, validation_split=VALIDATION_SPLIT)"
   ]
  },
  {
   "cell_type": "code",
   "execution_count": 25,
   "metadata": {},
   "outputs": [
    {
     "name": "stdout",
     "output_type": "stream",
     "text": [
      "313/313 [==============================] - 1s 2ms/step - loss: 0.1133 - accuracy: 0.9649\n",
      "Test Accuracy 0.964900016784668\n"
     ]
    }
   ],
   "source": [
    "test_loss, test_acc = model.evaluate(X_test, Y_test)\n",
    "\n",
    "print('Test Accuracy', test_acc)"
   ]
  }
 ],
 "metadata": {
  "interpreter": {
   "hash": "a12d694c3ccac42055183a0ad11e659c6a2db5c6555ad2c8919d5814fd4e404f"
  },
  "kernelspec": {
   "display_name": "Python 3.9.7 64-bit",
   "language": "python",
   "name": "python3"
  },
  "language_info": {
   "codemirror_mode": {
    "name": "ipython",
    "version": 3
   },
   "file_extension": ".py",
   "mimetype": "text/x-python",
   "name": "python",
   "nbconvert_exporter": "python",
   "pygments_lexer": "ipython3",
   "version": "3.9.7"
  },
  "orig_nbformat": 4
 },
 "nbformat": 4,
 "nbformat_minor": 2
}
