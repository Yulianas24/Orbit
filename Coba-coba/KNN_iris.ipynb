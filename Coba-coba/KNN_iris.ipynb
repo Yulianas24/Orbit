{
 "cells": [
  {
   "cell_type": "code",
   "execution_count": 246,
   "metadata": {},
   "outputs": [],
   "source": [
    "import pandas as pd\n",
    "import cmath\n",
    "import numpy as np"
   ]
  },
  {
   "cell_type": "code",
   "execution_count": 247,
   "metadata": {},
   "outputs": [],
   "source": [
    "df = pd.read_csv('file/bunga_iris.csv')\n",
    "\n",
    "df.columns\n",
    "\n",
    "x = df[['a1', 'a2', 'a3', 'a4']].values\n",
    "y = df['label'].values"
   ]
  },
  {
   "cell_type": "code",
   "execution_count": 248,
   "metadata": {},
   "outputs": [
    {
     "data": {
      "text/plain": [
       "array([[7.2, 3.6, 6.1, 2.5],\n",
       "       [6.5, 3.2, 5.1, 2. ],\n",
       "       [6.3, 2.8, 5.1, 1.5],\n",
       "       [5.7, 2.8, 4.5, 1.3],\n",
       "       [5. , 2. , 3.5, 1. ],\n",
       "       [5. , 3.2, 1.2, 0.2],\n",
       "       [4.6, 3.6, 1. , 0.2],\n",
       "       [7.1, 3. , 5.9, 2.1],\n",
       "       [6. , 3. , 4.8, 1.8],\n",
       "       [6.8, 2.8, 4.8, 1.4],\n",
       "       [5.7, 2.9, 4.2, 1.3],\n",
       "       [6. , 2.2, 4. , 1. ],\n",
       "       [5. , 3.3, 1.4, 0.2],\n",
       "       [5. , 3.6, 1.4, 0.2],\n",
       "       [6.7, 3.3, 5.7, 2.1],\n",
       "       [6.5, 3. , 5.5, 1.8],\n",
       "       [6.7, 3.1, 4.4, 1.4],\n",
       "       [5.7, 3. , 4.2, 1.2],\n",
       "       [5.7, 3.8, 1.7, 0.3],\n",
       "       [5.1, 3.5, 1.4, 0.2],\n",
       "       [5.5, 4.2, 1.4, 0.2]])"
      ]
     },
     "execution_count": 248,
     "metadata": {},
     "output_type": "execute_result"
    }
   ],
   "source": [
    "x"
   ]
  },
  {
   "cell_type": "code",
   "execution_count": 249,
   "metadata": {},
   "outputs": [
    {
     "data": {
      "text/plain": [
       "array([0, 0, 0, 2, 2, 1, 1, 0, 0, 2, 2, 2, 1, 1, 0, 0, 2, 2, 1, 1, 1],\n",
       "      dtype=int64)"
      ]
     },
     "execution_count": 249,
     "metadata": {},
     "output_type": "execute_result"
    }
   ],
   "source": [
    "y"
   ]
  },
  {
   "cell_type": "code",
   "execution_count": 250,
   "metadata": {},
   "outputs": [
    {
     "data": {
      "text/plain": [
       "array([[6.5, 3. , 5.5, 1.8],\n",
       "       [6.7, 3.1, 4.4, 1.4],\n",
       "       [5.7, 3. , 4.2, 1.2],\n",
       "       [5.7, 3.8, 1.7, 0.3],\n",
       "       [5.1, 3.5, 1.4, 0.2],\n",
       "       [5.5, 4.2, 1.4, 0.2]])"
      ]
     },
     "execution_count": 250,
     "metadata": {},
     "output_type": "execute_result"
    }
   ],
   "source": [
    "x_train = x[:15]\n",
    "y_train = y[:15]\n",
    "x_test = x[15:21]\n",
    "y_test = y[15:21]\n",
    "\n",
    "x_test"
   ]
  },
  {
   "cell_type": "markdown",
   "metadata": {},
   "source": [
    "# KNN Using sklearn"
   ]
  },
  {
   "cell_type": "code",
   "execution_count": 251,
   "metadata": {},
   "outputs": [
    {
     "data": {
      "text/plain": [
       "array([0, 2, 2, 1, 1, 1], dtype=int64)"
      ]
     },
     "execution_count": 251,
     "metadata": {},
     "output_type": "execute_result"
    }
   ],
   "source": [
    "from sklearn.neighbors import KNeighborsClassifier as KNC\n",
    "\n",
    "knn = KNC(n_neighbors=7).fit(x_train,y_train)\n",
    "yhat = knn.predict(x_test)\n",
    "yhat"
   ]
  },
  {
   "cell_type": "code",
   "execution_count": 252,
   "metadata": {},
   "outputs": [
    {
     "name": "stdout",
     "output_type": "stream",
     "text": [
      "Train Accuracy :  0.9333333333333333\n",
      "Test Accuracy :  1.0\n"
     ]
    }
   ],
   "source": [
    "from sklearn import metrics\n",
    "print(\"Train Accuracy : \", metrics.accuracy_score(y_train, knn.predict(x_train)))\n",
    "print(\"Test Accuracy : \", metrics.accuracy_score(y_test, knn.predict(x_test)))"
   ]
  }
 ],
 "metadata": {
  "interpreter": {
   "hash": "a12d694c3ccac42055183a0ad11e659c6a2db5c6555ad2c8919d5814fd4e404f"
  },
  "kernelspec": {
   "display_name": "Python 3.9.7 64-bit",
   "language": "python",
   "name": "python3"
  },
  "language_info": {
   "codemirror_mode": {
    "name": "ipython",
    "version": 3
   },
   "file_extension": ".py",
   "mimetype": "text/x-python",
   "name": "python",
   "nbconvert_exporter": "python",
   "pygments_lexer": "ipython3",
   "version": "3.9.7"
  },
  "orig_nbformat": 4
 },
 "nbformat": 4,
 "nbformat_minor": 2
}
