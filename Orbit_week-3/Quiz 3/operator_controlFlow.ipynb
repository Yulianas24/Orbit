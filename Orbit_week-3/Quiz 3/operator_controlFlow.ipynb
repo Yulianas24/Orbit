{
 "cells": [
  {
   "cell_type": "code",
   "execution_count": null,
   "metadata": {},
   "outputs": [],
   "source": [
    "for i in range(1, 101):\n",
    "  if(i%3 == 0 and i%5 == 0):\n",
    "    print(\"Joko Widodo\")\n",
    "  elif(i % 3==0):\n",
    "    print(\"Joko\")\n",
    "  elif(i%5 == 0):\n",
    "    print(\"Widodo\")\n",
    "  else:\n",
    "    print(i)\n",
    "  "
   ]
  },
  {
   "cell_type": "code",
   "execution_count": 50,
   "metadata": {},
   "outputs": [
    {
     "name": "stdout",
     "output_type": "stream",
     "text": [
      "                     *\n",
      "                  *    *\n",
      "                *        *\n",
      "              *            *\n",
      "            *                *\n",
      "          *                    *\n",
      "        *                        *\n",
      "      *                            *\n",
      "    *                                *\n",
      "  *                                    *\n",
      "*   *   *   *   *   *   *   *   *   *   \n"
     ]
    }
   ],
   "source": [
    "for i in range(11):\n",
    "  if(i==0):\n",
    "    print(\"  \"*10,\"*\")\n",
    "  elif(10>i>=1):\n",
    "    print('  '*(10-i)+\"*\"+'  '*(i*2)+\"*\")\n",
    "  else:\n",
    "    print(\"*   \"*i)"
   ]
  }
 ],
 "metadata": {
  "interpreter": {
   "hash": "a12d694c3ccac42055183a0ad11e659c6a2db5c6555ad2c8919d5814fd4e404f"
  },
  "kernelspec": {
   "display_name": "Python 3.9.7 64-bit",
   "language": "python",
   "name": "python3"
  },
  "language_info": {
   "codemirror_mode": {
    "name": "ipython",
    "version": 3
   },
   "file_extension": ".py",
   "mimetype": "text/x-python",
   "name": "python",
   "nbconvert_exporter": "python",
   "pygments_lexer": "ipython3",
   "version": "3.9.7"
  },
  "orig_nbformat": 4
 },
 "nbformat": 4,
 "nbformat_minor": 2
}
