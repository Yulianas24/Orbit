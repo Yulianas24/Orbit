{
 "cells": [
  {
   "cell_type": "code",
   "execution_count": 94,
   "metadata": {},
   "outputs": [
    {
     "name": "stdout",
     "output_type": "stream",
     "text": [
      "List Tuple Asal :\n",
      " [('red', 'pink'), ('white', 'black'), ('orange', 'green')]\n",
      "Gabungan String Tuple : \n",
      " ['red pink', 'white black', 'orange green']\n"
     ]
    }
   ],
   "source": [
    "list_tuple = [\n",
    "  ('red','pink'), \n",
    "  ('white', 'black'), \n",
    "  ('orange', 'green')\n",
    "]\n",
    "result = [' '.join(i) for i in list_tuple]\n",
    "\n",
    "print(\"List Tuple Asal :\\n\",list_tuple)\n",
    "\n",
    "print(\"Gabungan String Tuple : \\n\",result)\n"
   ]
  },
  {
   "cell_type": "code",
   "execution_count": 103,
   "metadata": {},
   "outputs": [
    {
     "name": "stdout",
     "output_type": "stream",
     "text": [
      "list Asal : \n",
      " {'Mata Kuliah': ['MTK', 'BIOLOGI', 'FISIKA', 'KIMIA'], 'Language': [77, 78, 84, 80]}\n",
      "\n",
      "Hasil Penggabungan : \n",
      " [{'Mata Kuliah': 'MTK', 'Language': 77}, {'Mata Kuliah': 'BIOLOGI', 'Language': 78}, {'Mata Kuliah': 'FISIKA', 'Language': 84}, {'Mata Kuliah': 'KIMIA', 'Language': 80}]\n"
     ]
    }
   ],
   "source": [
    "list_asal = {\n",
    "  'Mata Kuliah' : ['MTK','BIOLOGI','FISIKA','KIMIA'],\n",
    "  'Language' : [77,78,84,80]\n",
    "}\n",
    "\n",
    "def penggabungan(x):\n",
    "  result = []\n",
    "  for i in range(len(x['Mata Kuliah'])):\n",
    "    hasil = {\n",
    "    'Mata Kuliah':  list_asal['Mata Kuliah'][i],\n",
    "    'Language' : list_asal['Language'][i]\n",
    "    }\n",
    "    result.append(hasil)\n",
    "  return result\n",
    "\n",
    "print(f'list Asal : \\n {list_asal}\\n')\n",
    "print(f'Hasil Penggabungan : \\n {penggabungan(list_asal)}')\n",
    "\n"
   ]
  },
  {
   "cell_type": "code",
   "execution_count": 9,
   "metadata": {},
   "outputs": [
    {
     "name": "stdout",
     "output_type": "stream",
     "text": [
      "List Asli : \n",
      " [[1, 2, 3, 4, 5, 6, 7, 8], [2, 2, 3, 1, 2, 6, 7, 9]]\n",
      "[False, True, True, False, False, True, True, False]\n",
      "Jumlah nilai sama:\n",
      " 0\n"
     ]
    }
   ],
   "source": [
    "list_asli = [\n",
    "  [1,2,3,4,5,6,7,8],\n",
    "  [2,2,3,1,2,6,7,9]\n",
    "]\n",
    "\n",
    "result = map(lambda x, y: x == y, list_asli[0], list_asli[1])\n",
    "\n",
    "print('List Asli : \\n',  list_asli)\n",
    "print(list(result))\n",
    "print('Jumlah nilai sama:\\n',sum(list(result)))\n"
   ]
  }
 ],
 "metadata": {
  "interpreter": {
   "hash": "a12d694c3ccac42055183a0ad11e659c6a2db5c6555ad2c8919d5814fd4e404f"
  },
  "kernelspec": {
   "display_name": "Python 3.9.7 64-bit",
   "language": "python",
   "name": "python3"
  },
  "language_info": {
   "codemirror_mode": {
    "name": "ipython",
    "version": 3
   },
   "file_extension": ".py",
   "mimetype": "text/x-python",
   "name": "python",
   "nbconvert_exporter": "python",
   "pygments_lexer": "ipython3",
   "version": "3.9.7"
  },
  "orig_nbformat": 4
 },
 "nbformat": 4,
 "nbformat_minor": 2
}
