{
  "cells": [
    {
      "cell_type": "markdown",
      "metadata": {
        "id": "kGWDy-bh2JJQ"
      },
      "source": [
        "1. Uji Beda (t-test) terhadap 2 kelompok yang berhubungan\n",
        "2. Uji beda (t-test) teradap 2 kelompok independent \n",
        "3. Uji beda lebih dari 2 kelompok\n",
        "\n",
        "keduanya akan dilakukan secara parameterik dan nonparametrik"
      ]
    },
    {
      "cell_type": "markdown",
      "metadata": {
        "id": "Pe8Vk28g7FmL"
      },
      "source": [
        "# UJI BEDA YANG BERHUBUNGAN"
      ]
    },
    {
      "cell_type": "code",
      "execution_count": 1,
      "metadata": {
        "id": "PlpfBAbc2CCs"
      },
      "outputs": [],
      "source": [
        "# import library\n",
        "\n",
        "import matplotlib.pyplot as plt\n",
        "import pandas as pd\n",
        "import seaborn as sns\n",
        "import numpy as np\n",
        "from scipy import stats"
      ]
    },
    {
      "cell_type": "markdown",
      "metadata": {
        "id": "7-5D2iiO2vjg"
      },
      "source": [
        "Diketahui nilai mahasiswa saat belajar offline dan online sebagai berikut ( skala 10)\n",
        "\n",
        "- offline = [10, 9, 7, 8, 9, 9, 8,7,7,7,8,8,9,8,8,8,8,9]\n",
        "- online =[8,8,7,7,6,7,7,7,7,6,6,6,6,7,8,7,8,7,8]"
      ]
    },
    {
      "cell_type": "code",
      "execution_count": 2,
      "metadata": {
        "id": "vMZqZBfb3IcD"
      },
      "outputs": [],
      "source": [
        "offline = np.array( [10, 9, 7, 8, 9, 9, 8,7,7,7,8,8,9,8,8,8,8,9 ] )\n",
        "online = np.array( [8,8,7,7,6,7,7,7,7,6,6,6,6,7,8,7,8,7]  )"
      ]
    },
    {
      "cell_type": "markdown",
      "metadata": {
        "id": "5uyx40RP3jU-"
      },
      "source": [
        "Uji Normalitas\n",
        "\n",
        "Ho =  Data berdistribusi normal\n",
        "\n",
        "Ha = data tidak berdistribusi normal"
      ]
    },
    {
      "cell_type": "code",
      "execution_count": 3,
      "metadata": {
        "colab": {
          "base_uri": "https://localhost:8080/",
          "height": 340
        },
        "id": "T69E7M_f3cLd",
        "outputId": "9ecab156-b3ef-42e2-d799-59730e31bf58"
      },
      "outputs": [
        {
          "name": "stderr",
          "output_type": "stream",
          "text": [
            "C:\\Users\\hp\\AppData\\Local\\Programs\\Python\\Python39\\lib\\site-packages\\seaborn\\distributions.py:2619: FutureWarning: `distplot` is a deprecated function and will be removed in a future version. Please adapt your code to use either `displot` (a figure-level function with similar flexibility) or `histplot` (an axes-level function for histograms).\n",
            "  warnings.warn(msg, FutureWarning)\n"
          ]
        },
        {
          "data": {
            "text/plain": [
              "<AxesSubplot:ylabel='Density'>"
            ]
          },
          "execution_count": 3,
          "metadata": {},
          "output_type": "execute_result"
        },
        {
          "data": {
            "image/png": "[encoded data removed]",
            "text/plain": [
              "<Figure size 432x288 with 1 Axes>"
            ]
          },
          "metadata": {
            "needs_background": "light"
          },
          "output_type": "display_data"
        }
      ],
      "source": [
        "# Dengan Histogram saat pembelajaran offline\n",
        "sns.distplot(offline)"
      ]
    },
    {
      "cell_type": "code",
      "execution_count": 4,
      "metadata": {
        "colab": {
          "base_uri": "https://localhost:8080/",
          "height": 340
        },
        "id": "EnuNVMon4GHF",
        "outputId": "2830fd2f-ee2a-48f6-914f-de13193a7126"
      },
      "outputs": [
        {
          "name": "stderr",
          "output_type": "stream",
          "text": [
            "C:\\Users\\hp\\AppData\\Local\\Programs\\Python\\Python39\\lib\\site-packages\\seaborn\\distributions.py:2619: FutureWarning: `distplot` is a deprecated function and will be removed in a future version. Please adapt your code to use either `displot` (a figure-level function with similar flexibility) or `histplot` (an axes-level function for histograms).\n",
            "  warnings.warn(msg, FutureWarning)\n"
          ]
        },
        {
          "data": {
            "text/plain": [
              "<AxesSubplot:ylabel='Density'>"
            ]
          },
          "execution_count": 4,
          "metadata": {},
          "output_type": "execute_result"
        },
        {
          "data": {
            "image/png": "[encoded data removed]",
            "text/plain": [
              "<Figure size 432x288 with 1 Axes>"
            ]
          },
          "metadata": {
            "needs_background": "light"
          },
          "output_type": "display_data"
        }
      ],
      "source": [
        "# Dengan Histogram saat pembelajaran online\n",
        "sns.distplot(online)"
      ]
    },
    {
      "cell_type": "markdown",
      "metadata": {
        "id": "im8b-mLC4Lq5"
      },
      "source": [
        "Berdasarkan histogram, data berbentuk seperti lonceng dengan rata-rata pas ditengah. \n",
        "\n",
        "Sehingga, bisa kita simpulkan data brerdistribusi normal "
      ]
    },
    {
      "cell_type": "code",
      "execution_count": 5,
      "metadata": {
        "id": "VNcO4hdD4X2v"
      },
      "outputs": [],
      "source": [
        "#UJI KOLMOGORV-SMIRNOV -> MENENTUKAN APAKAH DATA INI BERDISTRIBUSI NORMAL ATAU TIDAK\n",
        "\n",
        "z_score_offline = stats.zscore(offline)\n",
        "z_score_online = stats.zscore(online)"
      ]
    },
    {
      "cell_type": "code",
      "execution_count": 6,
      "metadata": {
        "colab": {
          "base_uri": "https://localhost:8080/"
        },
        "id": "uTysRh0j40dx",
        "outputId": "f5b82aec-a165-4b5d-a471-12700e035546"
      },
      "outputs": [
        {
          "name": "stdout",
          "output_type": "stream",
          "text": [
            "Stats of data offline  KstestResult(statistic=0.2459263761057694, pvalue=0.19142739197431258)\n",
            "Stats of data online  KstestResult(statistic=0.2536307611137536, pvalue=0.1654350690223324)\n"
          ]
        }
      ],
      "source": [
        "print(\"Stats of data offline \", stats.kstest(z_score_offline, \"norm\"))\n",
        "print(\"Stats of data online \", stats.kstest(z_score_online, \"norm\"))"
      ]
    },
    {
      "cell_type": "markdown",
      "metadata": {
        "id": "QG7bb_cB5JAp"
      },
      "source": [
        "Jika p-value > 0.05, maka Ho Diterima, data berdistribusi normal\n",
        "\n",
        "jika maka sebaliknya"
      ]
    },
    {
      "cell_type": "markdown",
      "metadata": {
        "id": "Q6fGJleF5Ylo"
      },
      "source": [
        "#Paired Sample - Test (Paramterik)\n",
        "\n",
        "Ho = Tidak ada perbedaan yang signifikan\n",
        "\n",
        "ha = Ada perbedaan"
      ]
    },
    {
      "cell_type": "code",
      "execution_count": 7,
      "metadata": {
        "colab": {
          "base_uri": "https://localhost:8080/"
        },
        "id": "a8UKGl195wd7",
        "outputId": "19566dcf-f11c-44bf-f539-b18b48105a16"
      },
      "outputs": [
        {
          "data": {
            "text/plain": [
              "18"
            ]
          },
          "execution_count": 7,
          "metadata": {},
          "output_type": "execute_result"
        }
      ],
      "source": [
        "len(online)"
      ]
    },
    {
      "cell_type": "code",
      "execution_count": 8,
      "metadata": {
        "colab": {
          "base_uri": "https://localhost:8080/"
        },
        "id": "Sp2x3luN5R3e",
        "outputId": "12c908d8-28e9-448c-af34-4509226eff64"
      },
      "outputs": [
        {
          "name": "stdout",
          "output_type": "stream",
          "text": [
            "Hasil uji t :  Ttest_relResult(statistic=5.168586432893013, pvalue=7.712581804965841e-05)\n"
          ]
        }
      ],
      "source": [
        "t_value = stats.ttest_rel(offline, online)\n",
        "\n",
        "print('Hasil uji t : ', t_value)"
      ]
    },
    {
      "cell_type": "markdown",
      "metadata": {
        "id": "Sr7PGUZz59UG"
      },
      "source": [
        "karena p-value 5.16 * 10^-7 < 0.05, maka Ho ditolak\n",
        "\n",
        "Terdapat perbedaan yang signifikan antara nilai mahasiswa saat belajar online dan saat belajar offline.\n"
      ]
    },
    {
      "cell_type": "markdown",
      "metadata": {
        "id": "AypbapC46gmH"
      },
      "source": [
        "#Uji Wilcoxon (non paramterik)\n",
        "\n",
        "Misalkan datatanya tidak berdistribusi normal, uji beda 2 kelompok berhubungan dapata dilakukan dengan uji wilcoxon"
      ]
    },
    {
      "cell_type": "code",
      "execution_count": 9,
      "metadata": {
        "colab": {
          "base_uri": "https://localhost:8080/"
        },
        "id": "T-tPIcqD6vdU",
        "outputId": "02ce7f5a-b88a-4875-8c7e-1dab428cac71"
      },
      "outputs": [
        {
          "name": "stderr",
          "output_type": "stream",
          "text": [
            "C:\\Users\\hp\\AppData\\Local\\Programs\\Python\\Python39\\lib\\site-packages\\scipy\\stats\\morestats.py:3141: UserWarning: Exact p-value calculation does not work if there are ties. Switching to normal approximation.\n",
            "  warnings.warn(\"Exact p-value calculation does not work if there are \"\n"
          ]
        },
        {
          "data": {
            "text/plain": [
              "WilcoxonResult(statistic=0.0, pvalue=0.001213926677376025)"
            ]
          },
          "execution_count": 9,
          "metadata": {},
          "output_type": "execute_result"
        }
      ],
      "source": [
        "d = offline - online\n",
        "stats.wilcoxon(d)"
      ]
    },
    {
      "cell_type": "markdown",
      "metadata": {
        "id": "MuZX4anP6-rd"
      },
      "source": [
        "karena p-value  < 0.05, maka Ho ditolak\n",
        "\n",
        "Terdapat perbedaan yang signifikan antara nilai mahasiswa saat belajar online dan saat belajar offline.\n"
      ]
    },
    {
      "cell_type": "markdown",
      "metadata": {
        "id": "qBnpP_tE7KUZ"
      },
      "source": [
        "# UJI 2 BEDA INDEPENDENT\n",
        "\n",
        "misalkan seorang CEO kafe ingien mengetahui apakah ada perbedaan antraana jumlah pengunjung kafe di wilayah A dan B selama 2 minggu terakhir."
      ]
    },
    {
      "cell_type": "code",
      "execution_count": 10,
      "metadata": {
        "id": "lvzeGphC7XSa"
      },
      "outputs": [],
      "source": [
        "A = np.array([27,29,27,32,34,38,39,27,30,32,34,36,38,40])\n",
        "B = np.array([28,30,29,35,34,37,39,28,30,32,33,35,39,39])"
      ]
    },
    {
      "cell_type": "markdown",
      "metadata": {
        "id": "fdXWPvBh723I"
      },
      "source": [
        "Uji Normalitas"
      ]
    },
    {
      "cell_type": "code",
      "execution_count": 11,
      "metadata": {
        "colab": {
          "base_uri": "https://localhost:8080/",
          "height": 342
        },
        "id": "AqOJ6NnP7t_X",
        "outputId": "49838ea8-6c2c-4b18-c6de-46aee1831902"
      },
      "outputs": [
        {
          "name": "stderr",
          "output_type": "stream",
          "text": [
            "C:\\Users\\hp\\AppData\\Local\\Programs\\Python\\Python39\\lib\\site-packages\\seaborn\\distributions.py:2619: FutureWarning: `distplot` is a deprecated function and will be removed in a future version. Please adapt your code to use either `displot` (a figure-level function with similar flexibility) or `histplot` (an axes-level function for histograms).\n",
            "  warnings.warn(msg, FutureWarning)\n"
          ]
        },
        {
          "data": {
            "text/plain": [
              "<AxesSubplot:ylabel='Density'>"
            ]
          },
          "execution_count": 11,
          "metadata": {},
          "output_type": "execute_result"
        },
        {
          "data": {
            "image/png": "[encoded data removed]",
            "text/plain": [
              "<Figure size 432x288 with 1 Axes>"
            ]
          },
          "metadata": {
            "needs_background": "light"
          },
          "output_type": "display_data"
        }
      ],
      "source": [
        "# Dengan Histogram saat pembelajaran offline\n",
        "sns.distplot(A)"
      ]
    },
    {
      "cell_type": "code",
      "execution_count": 12,
      "metadata": {
        "colab": {
          "base_uri": "https://localhost:8080/",
          "height": 340
        },
        "id": "MFXqjpdk764C",
        "outputId": "16f83df8-ed60-452f-9332-9d60fe567d2e"
      },
      "outputs": [
        {
          "name": "stderr",
          "output_type": "stream",
          "text": [
            "C:\\Users\\hp\\AppData\\Local\\Programs\\Python\\Python39\\lib\\site-packages\\seaborn\\distributions.py:2619: FutureWarning: `distplot` is a deprecated function and will be removed in a future version. Please adapt your code to use either `displot` (a figure-level function with similar flexibility) or `histplot` (an axes-level function for histograms).\n",
            "  warnings.warn(msg, FutureWarning)\n"
          ]
        },
        {
          "data": {
            "text/plain": [
              "<AxesSubplot:ylabel='Density'>"
            ]
          },
          "execution_count": 12,
          "metadata": {},
          "output_type": "execute_result"
        },
        {
          "data": {
            "image/png": "[encoded data removed]",
            "text/plain": [
              "<Figure size 432x288 with 1 Axes>"
            ]
          },
          "metadata": {
            "needs_background": "light"
          },
          "output_type": "display_data"
        }
      ],
      "source": [
        "# Dengan Histogram saat pembelajaran offline\n",
        "sns.distplot(B)"
      ]
    },
    {
      "cell_type": "code",
      "execution_count": 13,
      "metadata": {
        "id": "IHHuTZFN8AgK"
      },
      "outputs": [],
      "source": [
        "#UJI KOLMOGORV-SMIRNOV -> MENENTUKAN APAKAH DATA INI BERDISTRIBUSI NORMAL ATAU TIDAK\n",
        "\n",
        "z_score_A = stats.zscore(A)\n",
        "z_score_B = stats.zscore(B)"
      ]
    },
    {
      "cell_type": "code",
      "execution_count": 14,
      "metadata": {
        "colab": {
          "base_uri": "https://localhost:8080/"
        },
        "id": "e3rWJniH8HmE",
        "outputId": "18c1a15f-4bd9-4deb-c2de-09ae04d461f9"
      },
      "outputs": [
        {
          "name": "stdout",
          "output_type": "stream",
          "text": [
            "Stats of data offline  KstestResult(statistic=0.15010032999139777, pvalue=0.8656406959340622)\n",
            "Stats of data online  KstestResult(statistic=0.16609147661220497, pvalue=0.7771854894576767)\n"
          ]
        }
      ],
      "source": [
        "print(\"Stats of data offline \", stats.kstest(z_score_A, \"norm\"))\n",
        "print(\"Stats of data online \", stats.kstest(z_score_B, \"norm\"))"
      ]
    },
    {
      "cell_type": "markdown",
      "metadata": {
        "id": "zN6TdllB8NuT"
      },
      "source": [
        "Apakah keduanya berdistribusi normal ? YA, gambar histogram seperti lonceng dan kedua p-value > 0.05"
      ]
    },
    {
      "cell_type": "code",
      "execution_count": 15,
      "metadata": {
        "colab": {
          "base_uri": "https://localhost:8080/"
        },
        "id": "oong2klq8ce9",
        "outputId": "65c7cb2b-dc48-468b-ce1a-3f8a0a076dae"
      },
      "outputs": [
        {
          "name": "stdout",
          "output_type": "stream",
          "text": [
            "Hasil uji t :  Ttest_relResult(statistic=-1.099171705722864, pvalue=0.29163277086873024)\n"
          ]
        }
      ],
      "source": [
        "#UJI T\n",
        "t_value = stats.ttest_rel(A, B)\n",
        "\n",
        "print('Hasil uji t : ', t_value)"
      ]
    },
    {
      "cell_type": "markdown",
      "metadata": {
        "id": "6nzoEJPI8q1w"
      },
      "source": [
        "karena nilai p-value 0.29 > 0.05, artinya Ho Diterima yaitu tidak ada perbedaan yang signifikan antara jumlah pengunjung kafe di wilayah A dan B"
      ]
    },
    {
      "cell_type": "markdown",
      "metadata": {
        "id": "c0T6X1mP8-J0"
      },
      "source": [
        "Uji Mann-Whitney\n",
        "\n",
        "Misalkan datanya tidak berdistribusi normal, uji beda 2 kelompok independent dapat dilakukan dengan uji mann-whitney"
      ]
    },
    {
      "cell_type": "code",
      "execution_count": 16,
      "metadata": {
        "colab": {
          "base_uri": "https://localhost:8080/"
        },
        "id": "qSVhuKEc8lM9",
        "outputId": "4dbab7c6-96e5-49a9-8d15-1d401e31bdba"
      },
      "outputs": [
        {
          "data": {
            "text/plain": [
              "MannwhitneyuResult(statistic=91.0, pvalue=0.7642583560538347)"
            ]
          },
          "execution_count": 16,
          "metadata": {},
          "output_type": "execute_result"
        }
      ],
      "source": [
        "stats.mannwhitneyu(A,B)"
      ]
    },
    {
      "cell_type": "markdown",
      "metadata": {
        "id": "22H40XQo9XDz"
      },
      "source": [
        "# Uji Beda lebih dari kelompok\n",
        "\n",
        "Dalam statistik paramterik (ANOVA), memiliki 2 asumsi:\n",
        "1. Data berdistribusi normla\n",
        "2. Varians data homogen\n",
        "\n",
        "\n",
        "Kasus\n",
        "\n",
        "Misalkan saat ini kamu adalah mentri pendidikan yang ingin mengetahui apakah kualitas pendidikan di negara sudah merata atau belum. \n",
        "\n",
        "Daerah dibagi menjadi \n",
        "1. kota besar di wilayah barat\n",
        "2. kota kecil di wilayah barat\n",
        "3. ibukota\n",
        "4. kota besar di wilayah timur\n",
        "5. kota kecil di wilayah timur"
      ]
    },
    {
      "cell_type": "code",
      "execution_count": 18,
      "metadata": {
        "colab": {
          "base_uri": "https://localhost:8080/",
          "height": 1000
        },
        "id": "kFXox47n-Byb",
        "outputId": "ae3be438-8f0a-45a1-bae5-aa4274f0a4ff"
      },
      "outputs": [
        {
          "data": {
            "text/html": [
              "<div>\n",
              "<style scoped>\n",
              "    .dataframe tbody tr th:only-of-type {\n",
              "        vertical-align: middle;\n",
              "    }\n",
              "\n",
              "    .dataframe tbody tr th {\n",
              "        vertical-align: top;\n",
              "    }\n",
              "\n",
              "    .dataframe thead th {\n",
              "        text-align: right;\n",
              "    }\n",
              "</style>\n",
              "<table border=\"1\" class=\"dataframe\">\n",
              "  <thead>\n",
              "    <tr style=\"text-align: right;\">\n",
              "      <th></th>\n",
              "      <th>big_west</th>\n",
              "      <th>small_west</th>\n",
              "      <th>capital_city</th>\n",
              "      <th>big_east</th>\n",
              "      <th>small_east</th>\n",
              "    </tr>\n",
              "  </thead>\n",
              "  <tbody>\n",
              "    <tr>\n",
              "      <th>0</th>\n",
              "      <td>87</td>\n",
              "      <td>77</td>\n",
              "      <td>86</td>\n",
              "      <td>71</td>\n",
              "      <td>70</td>\n",
              "    </tr>\n",
              "    <tr>\n",
              "      <th>1</th>\n",
              "      <td>75</td>\n",
              "      <td>83</td>\n",
              "      <td>90</td>\n",
              "      <td>82</td>\n",
              "      <td>76</td>\n",
              "    </tr>\n",
              "    <tr>\n",
              "      <th>2</th>\n",
              "      <td>80</td>\n",
              "      <td>73</td>\n",
              "      <td>87</td>\n",
              "      <td>85</td>\n",
              "      <td>81</td>\n",
              "    </tr>\n",
              "    <tr>\n",
              "      <th>3</th>\n",
              "      <td>75</td>\n",
              "      <td>82</td>\n",
              "      <td>85</td>\n",
              "      <td>89</td>\n",
              "      <td>85</td>\n",
              "    </tr>\n",
              "    <tr>\n",
              "      <th>4</th>\n",
              "      <td>91</td>\n",
              "      <td>71</td>\n",
              "      <td>85</td>\n",
              "      <td>72</td>\n",
              "      <td>75</td>\n",
              "    </tr>\n",
              "    <tr>\n",
              "      <th>5</th>\n",
              "      <td>89</td>\n",
              "      <td>87</td>\n",
              "      <td>96</td>\n",
              "      <td>79</td>\n",
              "      <td>75</td>\n",
              "    </tr>\n",
              "    <tr>\n",
              "      <th>6</th>\n",
              "      <td>91</td>\n",
              "      <td>77</td>\n",
              "      <td>95</td>\n",
              "      <td>79</td>\n",
              "      <td>75</td>\n",
              "    </tr>\n",
              "    <tr>\n",
              "      <th>7</th>\n",
              "      <td>87</td>\n",
              "      <td>84</td>\n",
              "      <td>89</td>\n",
              "      <td>85</td>\n",
              "      <td>72</td>\n",
              "    </tr>\n",
              "    <tr>\n",
              "      <th>8</th>\n",
              "      <td>90</td>\n",
              "      <td>86</td>\n",
              "      <td>93</td>\n",
              "      <td>84</td>\n",
              "      <td>72</td>\n",
              "    </tr>\n",
              "    <tr>\n",
              "      <th>9</th>\n",
              "      <td>94</td>\n",
              "      <td>93</td>\n",
              "      <td>91</td>\n",
              "      <td>86</td>\n",
              "      <td>75</td>\n",
              "    </tr>\n",
              "    <tr>\n",
              "      <th>10</th>\n",
              "      <td>82</td>\n",
              "      <td>83</td>\n",
              "      <td>96</td>\n",
              "      <td>85</td>\n",
              "      <td>90</td>\n",
              "    </tr>\n",
              "    <tr>\n",
              "      <th>11</th>\n",
              "      <td>91</td>\n",
              "      <td>94</td>\n",
              "      <td>94</td>\n",
              "      <td>76</td>\n",
              "      <td>83</td>\n",
              "    </tr>\n",
              "    <tr>\n",
              "      <th>12</th>\n",
              "      <td>83</td>\n",
              "      <td>79</td>\n",
              "      <td>91</td>\n",
              "      <td>71</td>\n",
              "      <td>80</td>\n",
              "    </tr>\n",
              "    <tr>\n",
              "      <th>13</th>\n",
              "      <td>86</td>\n",
              "      <td>92</td>\n",
              "      <td>85</td>\n",
              "      <td>82</td>\n",
              "      <td>85</td>\n",
              "    </tr>\n",
              "    <tr>\n",
              "      <th>14</th>\n",
              "      <td>84</td>\n",
              "      <td>72</td>\n",
              "      <td>77</td>\n",
              "      <td>72</td>\n",
              "      <td>80</td>\n",
              "    </tr>\n",
              "    <tr>\n",
              "      <th>15</th>\n",
              "      <td>82</td>\n",
              "      <td>86</td>\n",
              "      <td>96</td>\n",
              "      <td>78</td>\n",
              "      <td>80</td>\n",
              "    </tr>\n",
              "    <tr>\n",
              "      <th>16</th>\n",
              "      <td>88</td>\n",
              "      <td>76</td>\n",
              "      <td>84</td>\n",
              "      <td>78</td>\n",
              "      <td>78</td>\n",
              "    </tr>\n",
              "    <tr>\n",
              "      <th>17</th>\n",
              "      <td>89</td>\n",
              "      <td>84</td>\n",
              "      <td>87</td>\n",
              "      <td>76</td>\n",
              "      <td>86</td>\n",
              "    </tr>\n",
              "    <tr>\n",
              "      <th>18</th>\n",
              "      <td>94</td>\n",
              "      <td>85</td>\n",
              "      <td>91</td>\n",
              "      <td>74</td>\n",
              "      <td>83</td>\n",
              "    </tr>\n",
              "    <tr>\n",
              "      <th>19</th>\n",
              "      <td>87</td>\n",
              "      <td>93</td>\n",
              "      <td>83</td>\n",
              "      <td>77</td>\n",
              "      <td>77</td>\n",
              "    </tr>\n",
              "    <tr>\n",
              "      <th>20</th>\n",
              "      <td>89</td>\n",
              "      <td>87</td>\n",
              "      <td>90</td>\n",
              "      <td>74</td>\n",
              "      <td>76</td>\n",
              "    </tr>\n",
              "    <tr>\n",
              "      <th>21</th>\n",
              "      <td>88</td>\n",
              "      <td>89</td>\n",
              "      <td>81</td>\n",
              "      <td>70</td>\n",
              "      <td>75</td>\n",
              "    </tr>\n",
              "    <tr>\n",
              "      <th>22</th>\n",
              "      <td>75</td>\n",
              "      <td>89</td>\n",
              "      <td>79</td>\n",
              "      <td>80</td>\n",
              "      <td>81</td>\n",
              "    </tr>\n",
              "    <tr>\n",
              "      <th>23</th>\n",
              "      <td>85</td>\n",
              "      <td>77</td>\n",
              "      <td>95</td>\n",
              "      <td>89</td>\n",
              "      <td>74</td>\n",
              "    </tr>\n",
              "    <tr>\n",
              "      <th>24</th>\n",
              "      <td>81</td>\n",
              "      <td>92</td>\n",
              "      <td>93</td>\n",
              "      <td>80</td>\n",
              "      <td>84</td>\n",
              "    </tr>\n",
              "    <tr>\n",
              "      <th>25</th>\n",
              "      <td>78</td>\n",
              "      <td>73</td>\n",
              "      <td>95</td>\n",
              "      <td>89</td>\n",
              "      <td>75</td>\n",
              "    </tr>\n",
              "    <tr>\n",
              "      <th>26</th>\n",
              "      <td>93</td>\n",
              "      <td>86</td>\n",
              "      <td>90</td>\n",
              "      <td>77</td>\n",
              "      <td>75</td>\n",
              "    </tr>\n",
              "    <tr>\n",
              "      <th>27</th>\n",
              "      <td>88</td>\n",
              "      <td>87</td>\n",
              "      <td>91</td>\n",
              "      <td>88</td>\n",
              "      <td>80</td>\n",
              "    </tr>\n",
              "    <tr>\n",
              "      <th>28</th>\n",
              "      <td>84</td>\n",
              "      <td>93</td>\n",
              "      <td>78</td>\n",
              "      <td>75</td>\n",
              "      <td>80</td>\n",
              "    </tr>\n",
              "    <tr>\n",
              "      <th>29</th>\n",
              "      <td>90</td>\n",
              "      <td>95</td>\n",
              "      <td>91</td>\n",
              "      <td>78</td>\n",
              "      <td>75</td>\n",
              "    </tr>\n",
              "    <tr>\n",
              "      <th>30</th>\n",
              "      <td>91</td>\n",
              "      <td>90</td>\n",
              "      <td>88</td>\n",
              "      <td>82</td>\n",
              "      <td>70</td>\n",
              "    </tr>\n",
              "    <tr>\n",
              "      <th>31</th>\n",
              "      <td>88</td>\n",
              "      <td>84</td>\n",
              "      <td>80</td>\n",
              "      <td>72</td>\n",
              "      <td>80</td>\n",
              "    </tr>\n",
              "    <tr>\n",
              "      <th>32</th>\n",
              "      <td>82</td>\n",
              "      <td>82</td>\n",
              "      <td>95</td>\n",
              "      <td>77</td>\n",
              "      <td>90</td>\n",
              "    </tr>\n",
              "    <tr>\n",
              "      <th>33</th>\n",
              "      <td>94</td>\n",
              "      <td>82</td>\n",
              "      <td>94</td>\n",
              "      <td>81</td>\n",
              "      <td>86</td>\n",
              "    </tr>\n",
              "    <tr>\n",
              "      <th>34</th>\n",
              "      <td>83</td>\n",
              "      <td>93</td>\n",
              "      <td>90</td>\n",
              "      <td>75</td>\n",
              "      <td>70</td>\n",
              "    </tr>\n",
              "    <tr>\n",
              "      <th>35</th>\n",
              "      <td>91</td>\n",
              "      <td>72</td>\n",
              "      <td>78</td>\n",
              "      <td>78</td>\n",
              "      <td>85</td>\n",
              "    </tr>\n",
              "    <tr>\n",
              "      <th>36</th>\n",
              "      <td>76</td>\n",
              "      <td>85</td>\n",
              "      <td>89</td>\n",
              "      <td>75</td>\n",
              "      <td>80</td>\n",
              "    </tr>\n",
              "    <tr>\n",
              "      <th>37</th>\n",
              "      <td>80</td>\n",
              "      <td>90</td>\n",
              "      <td>90</td>\n",
              "      <td>87</td>\n",
              "      <td>72</td>\n",
              "    </tr>\n",
              "    <tr>\n",
              "      <th>38</th>\n",
              "      <td>76</td>\n",
              "      <td>81</td>\n",
              "      <td>90</td>\n",
              "      <td>76</td>\n",
              "      <td>90</td>\n",
              "    </tr>\n",
              "    <tr>\n",
              "      <th>39</th>\n",
              "      <td>90</td>\n",
              "      <td>90</td>\n",
              "      <td>95</td>\n",
              "      <td>81</td>\n",
              "      <td>90</td>\n",
              "    </tr>\n",
              "    <tr>\n",
              "      <th>40</th>\n",
              "      <td>88</td>\n",
              "      <td>78</td>\n",
              "      <td>81</td>\n",
              "      <td>89</td>\n",
              "      <td>63</td>\n",
              "    </tr>\n",
              "    <tr>\n",
              "      <th>41</th>\n",
              "      <td>84</td>\n",
              "      <td>83</td>\n",
              "      <td>90</td>\n",
              "      <td>82</td>\n",
              "      <td>82</td>\n",
              "    </tr>\n",
              "    <tr>\n",
              "      <th>42</th>\n",
              "      <td>70</td>\n",
              "      <td>70</td>\n",
              "      <td>70</td>\n",
              "      <td>70</td>\n",
              "      <td>70</td>\n",
              "    </tr>\n",
              "  </tbody>\n",
              "</table>\n",
              "</div>"
            ],
            "text/plain": [
              "    big_west  small_west  capital_city  big_east  small_east\n",
              "0         87          77            86        71          70\n",
              "1         75          83            90        82          76\n",
              "2         80          73            87        85          81\n",
              "3         75          82            85        89          85\n",
              "4         91          71            85        72          75\n",
              "5         89          87            96        79          75\n",
              "6         91          77            95        79          75\n",
              "7         87          84            89        85          72\n",
              "8         90          86            93        84          72\n",
              "9         94          93            91        86          75\n",
              "10        82          83            96        85          90\n",
              "11        91          94            94        76          83\n",
              "12        83          79            91        71          80\n",
              "13        86          92            85        82          85\n",
              "14        84          72            77        72          80\n",
              "15        82          86            96        78          80\n",
              "16        88          76            84        78          78\n",
              "17        89          84            87        76          86\n",
              "18        94          85            91        74          83\n",
              "19        87          93            83        77          77\n",
              "20        89          87            90        74          76\n",
              "21        88          89            81        70          75\n",
              "22        75          89            79        80          81\n",
              "23        85          77            95        89          74\n",
              "24        81          92            93        80          84\n",
              "25        78          73            95        89          75\n",
              "26        93          86            90        77          75\n",
              "27        88          87            91        88          80\n",
              "28        84          93            78        75          80\n",
              "29        90          95            91        78          75\n",
              "30        91          90            88        82          70\n",
              "31        88          84            80        72          80\n",
              "32        82          82            95        77          90\n",
              "33        94          82            94        81          86\n",
              "34        83          93            90        75          70\n",
              "35        91          72            78        78          85\n",
              "36        76          85            89        75          80\n",
              "37        80          90            90        87          72\n",
              "38        76          81            90        76          90\n",
              "39        90          90            95        81          90\n",
              "40        88          78            81        89          63\n",
              "41        84          83            90        82          82\n",
              "42        70          70            70        70          70"
            ]
          },
          "execution_count": 18,
          "metadata": {},
          "output_type": "execute_result"
        }
      ],
      "source": [
        "final_exam = pd.read_csv('file/final_exam.csv')\n",
        "final_exam"
      ]
    },
    {
      "cell_type": "markdown",
      "metadata": {
        "id": "HeJMix2e-TQq"
      },
      "source": [
        "## Uji Normalitas\n",
        "\n",
        "Ho = data berdistribusi normal\n",
        "\n",
        "ha = data tidak berdistribusi normal"
      ]
    },
    {
      "cell_type": "code",
      "execution_count": null,
      "metadata": {
        "colab": {
          "base_uri": "https://localhost:8080/",
          "height": 300
        },
        "id": "TKJochcq-Sj_",
        "outputId": "3dd9ce74-1146-4ce8-ac4d-63143930d228"
      },
      "outputs": [
        {
          "data": {
            "text/plain": [
              "<Figure size 1280x960 with 0 Axes>"
            ]
          },
          "metadata": {},
          "output_type": "display_data"
        },
        {
          "data": {
            "image/png": "[encoded data removed]",
            "text/plain": [
              "<Figure size 432x288 with 6 Axes>"
            ]
          },
          "metadata": {
            "needs_background": "light"
          },
          "output_type": "display_data"
        }
      ],
      "source": [
        "#membuat histogram\n",
        "from matplotlib.pyplot import figure\n",
        "\n",
        "figure(figsize=(16, 12), dpi=80)\n",
        "final_exam.hist()\n",
        "plt.show()"
      ]
    },
    {
      "cell_type": "code",
      "execution_count": 19,
      "metadata": {
        "colab": {
          "base_uri": "https://localhost:8080/"
        },
        "id": "2ZBRYopu-wUk",
        "outputId": "4d72ba91-08b5-41bd-c2fa-68bb73c550c9"
      },
      "outputs": [
        {
          "name": "stdout",
          "output_type": "stream",
          "text": [
            "stat  big_west  =  KstestResult(statistic=0.1463623852887705, pvalue=0.28678269325815053)\n",
            "stat  small_west  =  KstestResult(statistic=0.09305748870693209, pvalue=0.8171989638137918)\n",
            "stat  capital_city  =  KstestResult(statistic=0.1723544820281414, pvalue=0.1379003575286657)\n",
            "stat  small_east  =  KstestResult(statistic=0.11522951440351409, pvalue=0.5778423663395744)\n",
            "stat  big_east  =  KstestResult(statistic=0.09709346617838455, pvalue=0.7763472906058266)\n"
          ]
        }
      ],
      "source": [
        "area = ['big_west', 'small_west', 'capital_city', 'small_east', 'big_east']\n",
        "\n",
        "for a in area:\n",
        "  z_score = stats.zscore(final_exam[a])\n",
        "  stat = stats.kstest(z_score, \"norm\")\n",
        "  print('stat ', a, ' = ', stat)"
      ]
    },
    {
      "cell_type": "markdown",
      "metadata": {
        "id": "s5G7Bkt9_Z57"
      },
      "source": [
        "Apakah data berdistiribusi normal ? Ya, karena semua p-value > 0.05"
      ]
    },
    {
      "cell_type": "markdown",
      "metadata": {
        "id": "Gpq4fYPb_lKs"
      },
      "source": [
        "## Uji Homogenitas\n",
        "\n",
        "Ho = varians semua kelompok cenderung homogen\n",
        "\n",
        "Ha = varians semua kelompok cenderung heterogen"
      ]
    },
    {
      "cell_type": "code",
      "execution_count": null,
      "metadata": {
        "colab": {
          "base_uri": "https://localhost:8080/"
        },
        "id": "WH2TTOlA_ubi",
        "outputId": "33bca2e9-60f0-45c0-a7bd-ae1afbb59d74"
      },
      "outputs": [
        {
          "data": {
            "text/plain": [
              "LeveneResult(statistic=0.5104303607286809, pvalue=0.728125042716542)"
            ]
          },
          "execution_count": 41,
          "metadata": {},
          "output_type": "execute_result"
        }
      ],
      "source": [
        "stats.levene(final_exam['big_west'], final_exam['small_west'], final_exam['capital_city'], final_exam['big_east'], final_exam['small_east'])"
      ]
    },
    {
      "cell_type": "markdown",
      "metadata": {
        "id": "QPnQ_VhJALgK"
      },
      "source": [
        "## Uji ANOVA\n",
        "\n",
        "Ho =  Kualias pendidiakn merata\n",
        "\n",
        "ha = kualitas pendidikan tidak merata"
      ]
    },
    {
      "cell_type": "code",
      "execution_count": null,
      "metadata": {
        "colab": {
          "base_uri": "https://localhost:8080/"
        },
        "id": "G9wU6yTvAKS9",
        "outputId": "a3ac8216-b73d-4e8f-d7b3-0583598d8e55"
      },
      "outputs": [
        {
          "data": {
            "text/plain": [
              "F_onewayResult(statistic=18.48895253915249, pvalue=4.945434101915241e-13)"
            ]
          },
          "execution_count": 42,
          "metadata": {},
          "output_type": "execute_result"
        }
      ],
      "source": [
        "stats.f_oneway(final_exam['big_west'], final_exam['small_west'], final_exam['capital_city'], final_exam['big_east'], final_exam['small_east'])"
      ]
    },
    {
      "cell_type": "markdown",
      "metadata": {
        "id": "aQVmPdO0AhCT"
      },
      "source": [
        "Karena p_value < 0.05, maka Ho ditolak, ternyata kualtias pendidikan tidak merata"
      ]
    },
    {
      "cell_type": "code",
      "execution_count": null,
      "metadata": {
        "colab": {
          "base_uri": "https://localhost:8080/",
          "height": 300
        },
        "id": "9TlEJhvoArDC",
        "outputId": "0ce8d9b2-80f5-4e88-9780-e4d35bf8314e"
      },
      "outputs": [
        {
          "data": {
            "text/html": [
              "\n",
              "  <div id=\"df-f595ebe5-e1f5-4ff4-8746-7e5a62e82297\">\n",
              "    <div class=\"colab-df-container\">\n",
              "      <div>\n",
              "<style scoped>\n",
              "    .dataframe tbody tr th:only-of-type {\n",
              "        vertical-align: middle;\n",
              "    }\n",
              "\n",
              "    .dataframe tbody tr th {\n",
              "        vertical-align: top;\n",
              "    }\n",
              "\n",
              "    .dataframe thead th {\n",
              "        text-align: right;\n",
              "    }\n",
              "</style>\n",
              "<table border=\"1\" class=\"dataframe\">\n",
              "  <thead>\n",
              "    <tr style=\"text-align: right;\">\n",
              "      <th></th>\n",
              "      <th>big_west</th>\n",
              "      <th>small_west</th>\n",
              "      <th>capital_city</th>\n",
              "      <th>big_east</th>\n",
              "      <th>small_east</th>\n",
              "    </tr>\n",
              "  </thead>\n",
              "  <tbody>\n",
              "    <tr>\n",
              "      <th>count</th>\n",
              "      <td>43.000000</td>\n",
              "      <td>43.000000</td>\n",
              "      <td>43.000000</td>\n",
              "      <td>43.000000</td>\n",
              "      <td>43.000000</td>\n",
              "    </tr>\n",
              "    <tr>\n",
              "      <th>mean</th>\n",
              "      <td>85.325581</td>\n",
              "      <td>83.837209</td>\n",
              "      <td>88.232558</td>\n",
              "      <td>79.209302</td>\n",
              "      <td>78.627907</td>\n",
              "    </tr>\n",
              "    <tr>\n",
              "      <th>std</th>\n",
              "      <td>5.982995</td>\n",
              "      <td>7.006562</td>\n",
              "      <td>6.159921</td>\n",
              "      <td>5.667611</td>\n",
              "      <td>6.302015</td>\n",
              "    </tr>\n",
              "    <tr>\n",
              "      <th>min</th>\n",
              "      <td>70.000000</td>\n",
              "      <td>70.000000</td>\n",
              "      <td>70.000000</td>\n",
              "      <td>70.000000</td>\n",
              "      <td>63.000000</td>\n",
              "    </tr>\n",
              "    <tr>\n",
              "      <th>25%</th>\n",
              "      <td>82.000000</td>\n",
              "      <td>78.500000</td>\n",
              "      <td>85.000000</td>\n",
              "      <td>75.000000</td>\n",
              "      <td>75.000000</td>\n",
              "    </tr>\n",
              "    <tr>\n",
              "      <th>50%</th>\n",
              "      <td>87.000000</td>\n",
              "      <td>84.000000</td>\n",
              "      <td>90.000000</td>\n",
              "      <td>78.000000</td>\n",
              "      <td>80.000000</td>\n",
              "    </tr>\n",
              "    <tr>\n",
              "      <th>75%</th>\n",
              "      <td>90.000000</td>\n",
              "      <td>89.500000</td>\n",
              "      <td>93.000000</td>\n",
              "      <td>83.000000</td>\n",
              "      <td>83.000000</td>\n",
              "    </tr>\n",
              "    <tr>\n",
              "      <th>max</th>\n",
              "      <td>94.000000</td>\n",
              "      <td>95.000000</td>\n",
              "      <td>96.000000</td>\n",
              "      <td>89.000000</td>\n",
              "      <td>90.000000</td>\n",
              "    </tr>\n",
              "  </tbody>\n",
              "</table>\n",
              "</div>\n",
              "      <button class=\"colab-df-convert\" onclick=\"convertToInteractive('df-f595ebe5-e1f5-4ff4-8746-7e5a62e82297')\"\n",
              "              title=\"Convert this dataframe to an interactive table.\"\n",
              "              style=\"display:none;\">\n",
              "        \n",
              "  <svg xmlns=\"http://www.w3.org/2000/svg\" height=\"24px\"viewBox=\"0 0 24 24\"\n",
              "       width=\"24px\">\n",
              "    <path d=\"M0 0h24v24H0V0z\" fill=\"none\"/>\n",
              "    <path d=\"M18.56 5.44l.94 2.06.94-2.06 2.06-.94-2.06-.94-.94-2.06-.94 2.06-2.06.94zm-11 1L8.5 8.5l.94-2.06 2.06-.94-2.06-.94L8.5 2.5l-.94 2.06-2.06.94zm10 10l.94 2.06.94-2.06 2.06-.94-2.06-.94-.94-2.06-.94 2.06-2.06.94z\"/><path d=\"M17.41 7.96l-1.37-1.37c-.4-.4-.92-.59-1.43-.59-.52 0-1.04.2-1.43.59L10.3 9.45l-7.72 7.72c-.78.78-.78 2.05 0 2.83L4 21.41c.39.39.9.59 1.41.59.51 0 1.02-.2 1.41-.59l7.78-7.78 2.81-2.81c.8-.78.8-2.07 0-2.86zM5.41 20L4 18.59l7.72-7.72 1.47 1.35L5.41 20z\"/>\n",
              "  </svg>\n",
              "      </button>\n",
              "      \n",
              "  <style>\n",
              "    .colab-df-container {\n",
              "      display:flex;\n",
              "      flex-wrap:wrap;\n",
              "      gap: 12px;\n",
              "    }\n",
              "\n",
              "    .colab-df-convert {\n",
              "      background-color: #E8F0FE;\n",
              "      border: none;\n",
              "      border-radius: 50%;\n",
              "      cursor: pointer;\n",
              "      display: none;\n",
              "      fill: #1967D2;\n",
              "      height: 32px;\n",
              "      padding: 0 0 0 0;\n",
              "      width: 32px;\n",
              "    }\n",
              "\n",
              "    .colab-df-convert:hover {\n",
              "      background-color: #E2EBFA;\n",
              "      box-shadow: 0px 1px 2px rgba(60, 64, 67, 0.3), 0px 1px 3px 1px rgba(60, 64, 67, 0.15);\n",
              "      fill: #174EA6;\n",
              "    }\n",
              "\n",
              "    [theme=dark] .colab-df-convert {\n",
              "      background-color: #3B4455;\n",
              "      fill: #D2E3FC;\n",
              "    }\n",
              "\n",
              "    [theme=dark] .colab-df-convert:hover {\n",
              "      background-color: #434B5C;\n",
              "      box-shadow: 0px 1px 3px 1px rgba(0, 0, 0, 0.15);\n",
              "      filter: drop-shadow(0px 1px 2px rgba(0, 0, 0, 0.3));\n",
              "      fill: #FFFFFF;\n",
              "    }\n",
              "  </style>\n",
              "\n",
              "      <script>\n",
              "        const buttonEl =\n",
              "          document.querySelector('#df-f595ebe5-e1f5-4ff4-8746-7e5a62e82297 button.colab-df-convert');\n",
              "        buttonEl.style.display =\n",
              "          google.colab.kernel.accessAllowed ? 'block' : 'none';\n",
              "\n",
              "        async function convertToInteractive(key) {\n",
              "          const element = document.querySelector('#df-f595ebe5-e1f5-4ff4-8746-7e5a62e82297');\n",
              "          const dataTable =\n",
              "            await google.colab.kernel.invokeFunction('convertToInteractive',\n",
              "                                                     [key], {});\n",
              "          if (!dataTable) return;\n",
              "\n",
              "          const docLinkHtml = 'Like what you see? Visit the ' +\n",
              "            '<a target=\"_blank\" href=https://colab.research.google.com/notebooks/data_table.ipynb>data table notebook</a>'\n",
              "            + ' to learn more about interactive tables.';\n",
              "          element.innerHTML = '';\n",
              "          dataTable['output_type'] = 'display_data';\n",
              "          await google.colab.output.renderOutput(dataTable, element);\n",
              "          const docLink = document.createElement('div');\n",
              "          docLink.innerHTML = docLinkHtml;\n",
              "          element.appendChild(docLink);\n",
              "        }\n",
              "      </script>\n",
              "    </div>\n",
              "  </div>\n",
              "  "
            ],
            "text/plain": [
              "        big_west  small_west  capital_city   big_east  small_east\n",
              "count  43.000000   43.000000     43.000000  43.000000   43.000000\n",
              "mean   85.325581   83.837209     88.232558  79.209302   78.627907\n",
              "std     5.982995    7.006562      6.159921   5.667611    6.302015\n",
              "min    70.000000   70.000000     70.000000  70.000000   63.000000\n",
              "25%    82.000000   78.500000     85.000000  75.000000   75.000000\n",
              "50%    87.000000   84.000000     90.000000  78.000000   80.000000\n",
              "75%    90.000000   89.500000     93.000000  83.000000   83.000000\n",
              "max    94.000000   95.000000     96.000000  89.000000   90.000000"
            ]
          },
          "execution_count": 43,
          "metadata": {},
          "output_type": "execute_result"
        }
      ],
      "source": [
        "final_exam.describe()"
      ]
    },
    {
      "cell_type": "markdown",
      "metadata": {
        "id": "lIRNxdVtA47f"
      },
      "source": [
        "## Uji Kruskal-Wallis (Non paramterik)\n",
        "\n",
        "Jika datanya tidak distribusi normal"
      ]
    },
    {
      "cell_type": "code",
      "execution_count": null,
      "metadata": {
        "colab": {
          "base_uri": "https://localhost:8080/"
        },
        "id": "KE6ahfH_A8cd",
        "outputId": "56bb917c-7b94-4c4c-fb16-5777516f9ac2"
      },
      "outputs": [
        {
          "data": {
            "text/plain": [
              "KruskalResult(statistic=57.244594069662135, pvalue=1.0992920086269013e-11)"
            ]
          },
          "execution_count": 45,
          "metadata": {},
          "output_type": "execute_result"
        }
      ],
      "source": [
        "stats.kruskal(final_exam['big_west'], final_exam['small_west'], final_exam['capital_city'], final_exam['big_east'], final_exam['small_east'])"
      ]
    },
    {
      "cell_type": "code",
      "execution_count": null,
      "metadata": {
        "id": "0zFs-UcwA_kJ"
      },
      "outputs": [],
      "source": []
    }
  ],
  "metadata": {
    "colab": {
      "name": "Uji Hipotesis - 10 Maret 2022.ipynb",
      "provenance": []
    },
    "kernelspec": {
      "display_name": "Python 3",
      "name": "python3"
    },
    "language_info": {
      "codemirror_mode": {
        "name": "ipython",
        "version": 3
      },
      "file_extension": ".py",
      "mimetype": "text/x-python",
      "name": "python",
      "nbconvert_exporter": "python",
      "pygments_lexer": "ipython3",
      "version": "3.9.7"
    }
  },
  "nbformat": 4,
  "nbformat_minor": 0
}
