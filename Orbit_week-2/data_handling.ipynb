{
 "cells": [
  {
   "cell_type": "code",
   "execution_count": 32,
   "metadata": {},
   "outputs": [
    {
     "name": "stdout",
     "output_type": "stream",
     "text": [
      "Jumlah Baris: 3\n"
     ]
    }
   ],
   "source": [
    "try:\n",
    "  data = open('file.txt', 'r')\n",
    "\n",
    "  def hitungBaris(x):\n",
    "    for count, line in enumerate(data):\n",
    "      pass\n",
    "    total = count+1\n",
    "    return total\n",
    "\n",
    "  print(\"Jumlah Baris:\",hitungBaris(data))\n",
    "\n",
    "except:\n",
    "  print(\"Something wrong\")\n"
   ]
  },
  {
   "cell_type": "code",
   "execution_count": 43,
   "metadata": {},
   "outputs": [
    {
     "name": "stdout",
     "output_type": "stream",
     "text": [
      "Copy Success\n"
     ]
    }
   ],
   "source": [
    "try:\n",
    "  data = open('file.txt', 'r')\n",
    "  data2 = open('file_Copy.txt', 'x')\n",
    "  for line in data.readlines():\n",
    "    data2.write(line)\n",
    "  data.close()\n",
    "  data2.close()\n",
    "  print(\"Copy Success\")\n",
    "except:\n",
    "  print(\"Failed\")\n"
   ]
  },
  {
   "cell_type": "code",
   "execution_count": 106,
   "metadata": {},
   "outputs": [
    {
     "name": "stdout",
     "output_type": "stream",
     "text": [
      "Paragraf 1\n",
      "\n",
      "Paragraf 2 lebih panjang\n",
      "\n",
      "Paragraf ke 3\n",
      "\n",
      "kata terbanyak berada di baris ke-2\n"
     ]
    }
   ],
   "source": [
    "f= open('file.txt', 'r')\n",
    "kata = []\n",
    "for line in f.readlines():\n",
    "  print(line)\n",
    "  kata.append(len(line.split()))\n",
    "\n",
    "kata_index = kata.index(max(kata))\n",
    "print(f\"\\nkata terbanyak berada di baris ke-{kata_index+1}\")\n",
    "\n",
    "\n"
   ]
  }
 ],
 "metadata": {
  "interpreter": {
   "hash": "a12d694c3ccac42055183a0ad11e659c6a2db5c6555ad2c8919d5814fd4e404f"
  },
  "kernelspec": {
   "display_name": "Python 3.9.7 64-bit",
   "language": "python",
   "name": "python3"
  },
  "language_info": {
   "codemirror_mode": {
    "name": "ipython",
    "version": 3
   },
   "file_extension": ".py",
   "mimetype": "text/x-python",
   "name": "python",
   "nbconvert_exporter": "python",
   "pygments_lexer": "ipython3",
   "version": "3.9.7"
  },
  "orig_nbformat": 4
 },
 "nbformat": 4,
 "nbformat_minor": 2
}
